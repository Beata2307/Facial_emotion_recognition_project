{
 "cells": [
  {
   "cell_type": "code",
   "execution_count": 7,
   "id": "89a605d4-db46-47a7-9b64-f442b11eba12",
   "metadata": {
    "tags": []
   },
   "outputs": [],
   "source": [
    "import pandas as pd\n",
    "import numpy as np\n",
    "\n",
    "import matplotlib.pyplot as  plt\n",
    "import cv2\n",
    "import os\n",
    "import random\n",
    "import shutil"
   ]
  },
  {
   "cell_type": "code",
   "execution_count": null,
   "id": "70f84f46-4fb6-4331-982f-97c88e0eaad3",
   "metadata": {},
   "outputs": [],
   "source": [
    "# from deepface import DeepFace\n",
    "# face = DeepFace.extract_faces(im, grayscale=True, enforce_detection=False)"
   ]
  },
  {
   "cell_type": "code",
   "execution_count": 2,
   "id": "ceaac25f-73ed-416f-ab7f-720b068080c9",
   "metadata": {
    "tags": []
   },
   "outputs": [],
   "source": [
    "face_cascade = cv2.CascadeClassifier(cv2.data.haarcascades + 'haarcascade_frontalface_default.xml')"
   ]
  },
  {
   "cell_type": "markdown",
   "id": "6470356b-3807-4ef0-9f52-6ae918b2cb72",
   "metadata": {
    "tags": []
   },
   "source": [
    "## Definition of functions for face detection"
   ]
  },
  {
   "cell_type": "code",
   "execution_count": 20,
   "id": "a6e3eaa8-ccda-4357-af1a-cbd80298fcc2",
   "metadata": {
    "tags": []
   },
   "outputs": [],
   "source": [
    "def detect_and_extract_face(image, scale=1.1, min_N=5):\n",
    "    \n",
    "    \"\"\"Description:\n",
    "        \n",
    "        Function that uses pre-trained Haarcascades face classifier to detect and cut faces from image.\n",
    "        Image is first converted to grayscale.\n",
    "    \"\"\"\n",
    "\n",
    "    face_cascade = cv2.CascadeClassifier(cv2.data.haarcascades + 'haarcascade_frontalface_default.xml')\n",
    "    gray = cv2.cvtColor(image, cv2.COLOR_BGR2GRAY)\n",
    "\n",
    "    faces = face_cascade.detectMultiScale(gray,  scaleFactor=scale, minNeighbors=min_N)\n",
    "\n",
    "    if len(faces) > 0:\n",
    "        x, y, w, h = faces[0]\n",
    "        extracted_face = image[y:y+h, x:x+w]\n",
    "        return extracted_face\n",
    "    else:\n",
    "        return None"
   ]
  },
  {
   "cell_type": "code",
   "execution_count": 21,
   "id": "bd03449f-69e3-4c1d-b661-6bd752a8ce84",
   "metadata": {
    "tags": []
   },
   "outputs": [],
   "source": [
    "def select_images_with_faces(path, categories, scale=1.1, min_N=5):\n",
    "   \n",
    "    \"\"\"Description:\n",
    "        \n",
    "        Function that reads images from different directories, uses CascadeClassifier to detect and cut faces from them.\n",
    "        Then, the extraced face pictures are saved in new directory. Images for which face was not detected are saved in another directory.\n",
    "        \n",
    "        Parameters:\n",
    "            - path - main directory where images are stored,\n",
    "            - categories - names of subfolders with images for different emotions; by default function iterates over all 7 subfolders,\n",
    "            - scale, min_N - parameters for CascadeClassifier where scale=scaleFactor, min_neighbors=minNeighbors     \n",
    "    \"\"\"\n",
    "    \n",
    "    for cat in categories:\n",
    "\n",
    "        img_dir = path\n",
    "\n",
    "        path = os.path.join(img_dir, cat)\n",
    "\n",
    "        save_face = f\"{img_dir}/1_Face_Extraction/{cat}/face/\"\n",
    "\n",
    "        no_face_pic = f\"{img_dir}/1_Face_Extraction/{cat}/no_face/\"\n",
    "\n",
    "        os.makedirs(save_face, exist_ok=True)\n",
    "\n",
    "        os.makedirs(no_face_pic, exist_ok=True)\n",
    "\n",
    "        for img in os.listdir(path):\n",
    "\n",
    "            image_path = os.path.join(path, img)\n",
    "\n",
    "            img_array = cv2.imread(image_path)\n",
    "\n",
    "            if img_array is None:\n",
    "                print(f\"Error reading image: {image_path}\")\n",
    "                continue  \n",
    "\n",
    "            extracted_face = detect_and_extract_face(img_array, scale=scale, min_N=min_N)\n",
    "\n",
    "            if extracted_face is not None:          \n",
    "                img_name = os.path.join(save_face, f\"{img}.jpg\")\n",
    "                cv2.imwrite(img_name, extracted_face)\n",
    "\n",
    "            else:\n",
    "                print(\"Face not detected\", img)\n",
    "\n",
    "                img_name = os.path.join(no_face_pic, f\"{img}.jpg\")\n",
    "                cv2.imwrite(img_name, img_array)\n",
    "                \n",
    "    print(\"Face detection completed. Directories created :) \")"
   ]
  },
  {
   "cell_type": "markdown",
   "id": "fac76b28-846a-4173-909c-bec740c2dce9",
   "metadata": {
    "tags": []
   },
   "source": [
    "## Detect faces in pictures from pixabay"
   ]
  },
  {
   "cell_type": "code",
   "execution_count": 12,
   "id": "16a587b7-baf2-4fc9-b726-0d68749aa6cc",
   "metadata": {
    "tags": []
   },
   "outputs": [
    {
     "name": "stdout",
     "output_type": "stream",
     "text": [
      "Face not detected angry_pic_13.jpg\n",
      "Face not detected angry_pic_15.jpg\n",
      "Face detection completed. Directories created :) \n"
     ]
    }
   ],
   "source": [
    "## After some test of parameters is seems that scale=1.1, min_N=5 is optimal combination\n",
    "\n",
    "path = '1_pixabay_images/' \n",
    "\n",
    "select_images_with_faces(path, categories = ['Anger'], scale=1.1, min_N=5)"
   ]
  },
  {
   "cell_type": "code",
   "execution_count": 13,
   "id": "6a986120-69d9-4737-b657-448d14e74dfc",
   "metadata": {
    "tags": []
   },
   "outputs": [
    {
     "name": "stdout",
     "output_type": "stream",
     "text": [
      "Face not detected disgust_pic_1.jpg\n",
      "Face detection completed. Directories created :) \n"
     ]
    }
   ],
   "source": [
    "select_images_with_faces(path, categories = ['Disgust'], scale=1.1, min_N=5)"
   ]
  },
  {
   "cell_type": "code",
   "execution_count": 14,
   "id": "f0827a42-45b7-4f0b-b473-b77bbed76763",
   "metadata": {
    "tags": []
   },
   "outputs": [
    {
     "name": "stdout",
     "output_type": "stream",
     "text": [
      "Face not detected fear_pic_29.jpg\n",
      "Face not detected fear_pic_44.jpg\n",
      "Face not detected scared_pic_2.jpg\n",
      "Face not detected scared_pic_4.jpg\n",
      "Face detection completed. Directories created :) \n"
     ]
    }
   ],
   "source": [
    "select_images_with_faces(path, categories = ['Fear'], scale=1.1, min_N=5)"
   ]
  },
  {
   "cell_type": "code",
   "execution_count": 15,
   "id": "a112e943-ef85-4c89-9a71-217990a4180e",
   "metadata": {
    "tags": []
   },
   "outputs": [
    {
     "name": "stdout",
     "output_type": "stream",
     "text": [
      "Face not detected happy_pic_10.jpg\n",
      "Face not detected happy_pic_11.jpg\n",
      "Face not detected happy_pic_29.jpg\n",
      "Face not detected happy_pic_3.jpg\n",
      "Face not detected happy_pic_32.jpg\n",
      "Face not detected happy_pic_4.jpg\n",
      "Face not detected happy_pic_8.jpg\n",
      "Face not detected surprised_pic_34.jpg\n",
      "Face detection completed. Directories created :) \n"
     ]
    }
   ],
   "source": [
    "select_images_with_faces(path, categories = ['Happiness'], scale=1.1, min_N=5)"
   ]
  },
  {
   "cell_type": "code",
   "execution_count": 16,
   "id": "4287b867-a952-4762-8127-91e8ab36e884",
   "metadata": {
    "tags": []
   },
   "outputs": [
    {
     "name": "stdout",
     "output_type": "stream",
     "text": [
      "Face not detected angry_pic_46.jpg\n",
      "Face not detected disgust_pic_4.jpg\n",
      "Face not detected fear_pic_9.jpg\n",
      "Face not detected natural_pic_28.jpg\n",
      "Face not detected natural_pic_32.jpg\n",
      "Face not detected natural_pic_40.jpg\n",
      "Face not detected natural_pic_42.jpg\n",
      "Face detection completed. Directories created :) \n"
     ]
    }
   ],
   "source": [
    "select_images_with_faces(path, categories = ['Neutral'], scale=1.1, min_N=5)"
   ]
  },
  {
   "cell_type": "code",
   "execution_count": 17,
   "id": "9e5ff946-71b6-4302-bbd0-24bce52e0231",
   "metadata": {
    "tags": []
   },
   "outputs": [
    {
     "name": "stdout",
     "output_type": "stream",
     "text": [
      "Face not detected angry_pic_1.jpg\n",
      "Face not detected pic_21.jpg\n",
      "Face not detected pic_22.jpg\n",
      "Face not detected pic_48.jpg\n",
      "Face detection completed. Directories created :) \n"
     ]
    }
   ],
   "source": [
    "select_images_with_faces(path, categories = ['Sadness'], scale=1.1, min_N=5)"
   ]
  },
  {
   "cell_type": "code",
   "execution_count": 18,
   "id": "0b8c97e0-3144-431f-ac45-b6c8e4eed789",
   "metadata": {
    "tags": []
   },
   "outputs": [
    {
     "name": "stdout",
     "output_type": "stream",
     "text": [
      "Face not detected surprised_pic_41.jpg\n",
      "Face not detected surprised_pic_52.jpg\n",
      "Face detection completed. Directories created :) \n"
     ]
    }
   ],
   "source": [
    "select_images_with_faces(path, categories = ['Surprise'], scale=1.1, min_N=5)"
   ]
  },
  {
   "cell_type": "markdown",
   "id": "9ce239f1-2eb4-4645-af7b-34adb1e1c976",
   "metadata": {
    "tags": []
   },
   "source": [
    "## Detect faces in pictures from DuckDuckGo"
   ]
  },
  {
   "cell_type": "code",
   "execution_count": 23,
   "id": "a44f17d9-9840-44db-8e29-79a3c3f1d670",
   "metadata": {
    "tags": []
   },
   "outputs": [
    {
     "name": "stdout",
     "output_type": "stream",
     "text": [
      "Face not detected ddg_neutral_pic_55.jpg\n",
      "Face not detected ddg_neutral_pic_73.jpg\n",
      "Face detection completed. Directories created :) \n"
     ]
    }
   ],
   "source": [
    "path_2 = '2_duckduckgo_images/'\n",
    "\n",
    "select_images_with_faces(path_2, categories = ['Neutral'], scale=1.1, min_N=5)"
   ]
  },
  {
   "cell_type": "code",
   "execution_count": 24,
   "id": "0c122b64-bbac-43c0-a061-032abece3b6d",
   "metadata": {
    "tags": []
   },
   "outputs": [
    {
     "name": "stdout",
     "output_type": "stream",
     "text": [
      "Face not detected ddg_angry_pic_12.jpg\n",
      "Face not detected ddg_angry_pic_16.jpg\n",
      "Face not detected ddg_angry_pic_20.jpg\n",
      "Face not detected ddg_angry_pic_34.jpg\n",
      "Face not detected ddg_angry_pic_45.jpg\n",
      "Face not detected ddg_angry_pic_53.jpg\n",
      "Face not detected ddg_angry_pic_65.jpg\n",
      "Face not detected ddg_angry_pic_77.jpg\n",
      "Face detection completed. Directories created :) \n"
     ]
    }
   ],
   "source": [
    "select_images_with_faces(path_2, categories = ['Anger'], scale=1.1, min_N=5)"
   ]
  },
  {
   "cell_type": "code",
   "execution_count": 25,
   "id": "d2085789-1823-4df4-be15-9697c03db34b",
   "metadata": {
    "tags": []
   },
   "outputs": [
    {
     "name": "stdout",
     "output_type": "stream",
     "text": [
      "Face not detected ddg_disgusted_pic_54.jpg\n",
      "Face not detected ddg_disgusted_pic_97.jpg\n",
      "Face detection completed. Directories created :) \n"
     ]
    }
   ],
   "source": [
    "select_images_with_faces(path_2, categories = ['Disgust'], scale=1.1, min_N=5)"
   ]
  },
  {
   "cell_type": "code",
   "execution_count": 26,
   "id": "b1c22d32-290e-4356-8c6e-2729a769d9f4",
   "metadata": {
    "tags": []
   },
   "outputs": [
    {
     "name": "stdout",
     "output_type": "stream",
     "text": [
      "Face not detected ddg_scared_pic_13.jpg\n",
      "Face not detected ddg_scared_pic_17.jpg\n",
      "Face not detected ddg_scared_pic_25.jpg\n",
      "Face not detected ddg_scared_pic_27.jpg\n",
      "Face not detected ddg_scared_pic_34.jpg\n",
      "Face not detected ddg_scared_pic_35.jpg\n",
      "Face not detected ddg_scared_pic_49.jpg\n",
      "Face not detected ddg_scared_pic_61.jpg\n",
      "Face not detected ddg_scared_pic_67.jpg\n",
      "Face not detected ddg_scared_pic_69.jpg\n",
      "Face not detected ddg_scared_pic_74.jpg\n",
      "Face not detected ddg_scared_pic_87.jpg\n",
      "Face not detected ddg_scared_pic_93.jpg\n",
      "Face detection completed. Directories created :) \n"
     ]
    }
   ],
   "source": [
    "select_images_with_faces(path_2, categories = ['Fear'], scale=1.1, min_N=5)"
   ]
  },
  {
   "cell_type": "code",
   "execution_count": 27,
   "id": "130fd1d6-e54d-49fc-9ddf-ac8631ff375f",
   "metadata": {
    "tags": []
   },
   "outputs": [
    {
     "name": "stdout",
     "output_type": "stream",
     "text": [
      "Face not detected ddg_happy_pic_19.jpg\n",
      "Face not detected ddg_happy_pic_25.jpg\n",
      "Face not detected ddg_happy_pic_39.jpg\n",
      "Face not detected ddg_happy_pic_70.jpg\n",
      "Face not detected ddg_happy_pic_72.jpg\n",
      "Face not detected ddg_happy_pic_74.jpg\n",
      "Face not detected ddg_happy_pic_89.jpg\n",
      "Face detection completed. Directories created :) \n"
     ]
    }
   ],
   "source": [
    "select_images_with_faces(path_2, categories = ['Happiness'], scale=1.1, min_N=5)"
   ]
  },
  {
   "cell_type": "code",
   "execution_count": 28,
   "id": "b44e155c-5980-4bb2-8b92-ba458db7f6e3",
   "metadata": {
    "tags": []
   },
   "outputs": [
    {
     "name": "stdout",
     "output_type": "stream",
     "text": [
      "Face not detected ddg_sad_pic_1.jpg\n",
      "Face not detected ddg_sad_pic_10.jpg\n",
      "Face not detected ddg_sad_pic_11.jpg\n",
      "Face not detected ddg_sad_pic_12.jpg\n",
      "Face not detected ddg_sad_pic_13.jpg\n",
      "Face not detected ddg_sad_pic_14.jpg\n",
      "Face not detected ddg_sad_pic_16.jpg\n",
      "Face not detected ddg_sad_pic_17.jpg\n",
      "Face not detected ddg_sad_pic_19.jpg\n",
      "Face not detected ddg_sad_pic_26.jpg\n",
      "Face not detected ddg_sad_pic_27.jpg\n",
      "Face not detected ddg_sad_pic_4.jpg\n",
      "Face not detected ddg_sad_pic_42.jpg\n",
      "Face not detected ddg_sad_pic_43.jpg\n",
      "Face not detected ddg_sad_pic_48.jpg\n",
      "Face not detected ddg_sad_pic_50.jpg\n",
      "Face not detected ddg_sad_pic_56.jpg\n",
      "Face not detected ddg_sad_pic_62.jpg\n",
      "Face not detected ddg_sad_pic_63.jpg\n",
      "Face not detected ddg_sad_pic_70.jpg\n",
      "Face not detected ddg_sad_pic_79.jpg\n",
      "Face not detected ddg_sad_pic_9.jpg\n",
      "Face not detected ddg_sad_pic_98.jpg\n",
      "Face detection completed. Directories created :) \n"
     ]
    }
   ],
   "source": [
    "select_images_with_faces(path_2, categories = ['Sadness'], scale=1.1, min_N=5)"
   ]
  },
  {
   "cell_type": "code",
   "execution_count": 29,
   "id": "a036ffe7-55d8-4530-91c8-312a0c866680",
   "metadata": {
    "tags": []
   },
   "outputs": [
    {
     "name": "stdout",
     "output_type": "stream",
     "text": [
      "Face not detected ddg_surprised_pic_40.jpg\n",
      "Face not detected ddg_surprised_pic_94.jpg\n",
      "Face detection completed. Directories created :) \n"
     ]
    }
   ],
   "source": [
    "select_images_with_faces(path_2, categories = ['Surprise'], scale=1.1, min_N=5)"
   ]
  },
  {
   "cell_type": "markdown",
   "id": "7533ae36-cdb1-4e18-8afb-57cf9af9f57c",
   "metadata": {
    "tags": []
   },
   "source": [
    "## Select random pictures from Keggle data base"
   ]
  },
  {
   "cell_type": "code",
   "execution_count": 8,
   "id": "d5f1a882-dbaf-4923-89e3-6fbbd6506f80",
   "metadata": {
    "tags": []
   },
   "outputs": [],
   "source": [
    "def select_random_pictures(source_dir, destination_dir, categories, num_pic=50):\n",
    "    for cat in categories: \n",
    "        images_path = os.path.join(source_dir, cat) \n",
    "        all_pictures = os.listdir(images_path)\n",
    "        \n",
    "        random_pictures = random.sample(all_pictures, num_pic)\n",
    "        \n",
    "        # Create the destination directory if it doesn't exist\n",
    "        save_dir = os.path.join(destination_dir, cat)\n",
    "        os.makedirs(save_dir, exist_ok=True)\n",
    "\n",
    "        # Copy selected files to the destination directory\n",
    "        for image in random_pictures:\n",
    "            image_path = os.path.join(images_path, image)\n",
    "            destination_path = os.path.join(save_dir, image)\n",
    "            shutil.copyfile(image_path, destination_path)\n"
   ]
  },
  {
   "cell_type": "code",
   "execution_count": 9,
   "id": "6d3090d0-42ca-46e2-9039-00d945cdc7b8",
   "metadata": {
    "tags": []
   },
   "outputs": [],
   "source": [
    "source_dir = '3_Kaggle_Natural_human_face_recognition_224x224px/'\n",
    "\n",
    "destination_dir = '3_Kaggle_Natural_human_face_recognition_224x224px/1_Selected/' "
   ]
  },
  {
   "cell_type": "code",
   "execution_count": 12,
   "id": "ebd215c9-5515-4b77-ae4e-bf28efee0ebb",
   "metadata": {
    "tags": []
   },
   "outputs": [
    {
     "name": "stdout",
     "output_type": "stream",
     "text": [
      "Happiness done.\n",
      "Sadness done.\n",
      "Surprise done.\n",
      "Neutral done.\n",
      "Anger done.\n",
      "Disgust done.\n",
      "Fear done.\n"
     ]
    }
   ],
   "source": [
    "emotions = ['Happiness', 'Sadness', 'Surprise', 'Neutral', 'Anger', 'Disgust', 'Fear'] \n",
    "\n",
    "for cat in emotions:\n",
    "    select_random_pictures(source_dir, destination_dir, categories=[cat], num_pic=200) \n",
    "    print(f\"{cat} done.\")\n"
   ]
  },
  {
   "cell_type": "markdown",
   "id": "15e061ae-d087-4e52-bffd-a52a491dcfc0",
   "metadata": {},
   "source": [
    "## Select random pictures from Keggle FER-2013 data base"
   ]
  },
  {
   "cell_type": "code",
   "execution_count": 13,
   "id": "e5925ce3-40b9-4e60-af01-244d4826c80b",
   "metadata": {
    "tags": []
   },
   "outputs": [],
   "source": [
    "source_dir_2 = '4_FER-2013-Kaggle/'\n",
    "\n",
    "destination_dir_2 = '4_FER-2013-Kaggle/1_Selected/' "
   ]
  },
  {
   "cell_type": "code",
   "execution_count": 14,
   "id": "fa1948c5-89f7-479c-8860-9851f8ae0e18",
   "metadata": {
    "tags": []
   },
   "outputs": [
    {
     "name": "stdout",
     "output_type": "stream",
     "text": [
      "Happiness done.\n",
      "Sadness done.\n",
      "Surprise done.\n",
      "Neutral done.\n",
      "Anger done.\n",
      "Disgust done.\n",
      "Fear done.\n"
     ]
    }
   ],
   "source": [
    "emotions = ['Happiness', 'Sadness', 'Surprise', 'Neutral', 'Anger', 'Disgust', 'Fear'] \n",
    "\n",
    "for cat in emotions:\n",
    "    select_random_pictures(source_dir_2, destination_dir_2, categories=[cat], num_pic=200) \n",
    "    print(f\"{cat} done.\")"
   ]
  }
 ],
 "metadata": {
  "kernelspec": {
   "display_name": "Python 3 (ipykernel)",
   "language": "python",
   "name": "python3"
  },
  "language_info": {
   "codemirror_mode": {
    "name": "ipython",
    "version": 3
   },
   "file_extension": ".py",
   "mimetype": "text/x-python",
   "name": "python",
   "nbconvert_exporter": "python",
   "pygments_lexer": "ipython3",
   "version": "3.11.5"
  }
 },
 "nbformat": 4,
 "nbformat_minor": 5
}
