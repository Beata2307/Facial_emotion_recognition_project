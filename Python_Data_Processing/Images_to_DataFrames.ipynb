{
 "cells": [
  {
   "cell_type": "code",
   "execution_count": 11,
   "id": "3ac995c7-1e01-406e-a626-a7645d495331",
   "metadata": {
    "tags": []
   },
   "outputs": [],
   "source": [
    "import pandas as pd\n",
    "import numpy as np\n",
    "\n",
    "import cv2\n",
    "import os"
   ]
  },
  {
   "cell_type": "markdown",
   "id": "11980b41-1e8c-4542-b91f-3e64b9449711",
   "metadata": {
    "tags": []
   },
   "source": [
    "## Function that loades images from files and writes then into data frame with corresponding metadata"
   ]
  },
  {
   "cell_type": "code",
   "execution_count": 3,
   "id": "046fd205-e993-4492-af6f-9903e7063514",
   "metadata": {
    "tags": []
   },
   "outputs": [],
   "source": [
    "def images_to_tables(path, categories, source):\n",
    "    \"\"\"Description:\n",
    "        \n",
    "        Function that takes images from different categories and puts them into a DataFrame with their metadata (height, width, etc.). \n",
    "        Images are stored as well in the DataFrame as pixels.\n",
    "        \n",
    "        Parameters:\n",
    "            - path - main directory where images are stored\n",
    "            - categories - names of subfolders with images for different emotions\n",
    "            - source - from where pictures where taken (url)\n",
    "            \n",
    "        Returns:\n",
    "            - data frame with pictures and their metadata\n",
    "        \n",
    "    \"\"\"\n",
    "    \n",
    "    save_dir = path\n",
    "    \n",
    "    data = []\n",
    "\n",
    "    for cat in categories:  \n",
    "        path = os.path.join(save_dir, cat)\n",
    "\n",
    "        for img in os.listdir(path):\n",
    "\n",
    "            image_path = os.path.join(path, img)\n",
    "\n",
    "            image_size_bytes = os.path.getsize(image_path)\n",
    "\n",
    "            image_size_mb = image_size_bytes / (1024 * 1024)    \n",
    "\n",
    "            img_array = cv2.imread(image_path)\n",
    "\n",
    "            data.append({          \n",
    "                \"source_id\" : source,\n",
    "                \"emotion_id\" : cat, \n",
    "                \"height\" : img_array.shape[0], \n",
    "                \"width\" :  img_array.shape[1], \n",
    "                \"aspect_ratio\" : img_array.shape[1] / img_array.shape[0],\n",
    "                \"image_format\" : image_path.split('.')[-1].upper(),\n",
    "                \"color_space\" : img_array.shape[2] if len(img_array.shape) == 3 else 'Grayscale',\n",
    "                \"file_size_MB\" : image_size_mb, \n",
    "                \"pixels\" : img_array\n",
    "            })   \n",
    "\n",
    "    emotion_map = {'Anger' : 0, 'Disgust' : 1, 'Fear' : 2, 'Happiness' : 3, 'Sadness' : 4, 'Surprise' : 5, 'Neutral' : 6}\n",
    "    \n",
    "    df = pd.DataFrame(data)\n",
    "    df['emotion_id'] = df['emotion_id'].map(emotion_map)\n",
    "    \n",
    "    return df\n"
   ]
  },
  {
   "cell_type": "markdown",
   "id": "33270dd8-9149-49f7-be9a-642875d813ca",
   "metadata": {
    "jp-MarkdownHeadingCollapsed": true,
    "tags": []
   },
   "source": [
    "## Create tables with 'emotions' and 'source' ids"
   ]
  },
  {
   "cell_type": "code",
   "execution_count": 12,
   "id": "45a06517-ba2c-42a1-b4da-c07c56498aad",
   "metadata": {
    "tags": []
   },
   "outputs": [],
   "source": [
    "pixabay_API = 'https://pixabay.com/service/about/api/'\n",
    "ddg_API = 'https://rapidapi.com/epctex-epctex-default/api/duckduckgo10'\n",
    "kaggle_url = 'https://www.kaggle.com/datasets/sudarshanvaidya/random-images-for-face-emotion-recognition?select=anger'\n",
    "FER_2013 = 'https://www.kaggle.com/datasets/msambare/fer2013'\n",
    "\n",
    "pixabay_comment = 'Images downloaded using API. All images are in color and exhibit varying resolutions; sotred in JPG format. '\n",
    "ddg_comment = 'Images downloaded using API. All images are in color and exhibit varying resolutions; sotred in JPG format. '\n",
    "kaggle_comment = 'Randomly selected images from data base available at Kaggle. Each image is 224 x 224 pixel grayscale in PNG format.'\n",
    "FER_2013_comment = 'Randomly selected images from FER-2013 data base. Each image is 48x48 pixel grayscale in JPG format.'\n",
    "\n",
    "sources = pd.DataFrame({\n",
    "    'id': [1, 2, 3, 4],\n",
    "    'source' : ['Pixabay API', 'DuckDuckGo API', 'Kaggle', 'FER-2013'],\n",
    "    'url_link' :[pixabay_API, ddg_API, kaggle_url, FER_2013],\n",
    "    'comments' : [pixabay_comment, ddg_comment, kaggle_comment, FER_2013_comment]\n",
    "})"
   ]
  },
  {
   "cell_type": "code",
   "execution_count": 5,
   "id": "6e5110ba-cb53-481d-8f13-0653fa3bc7e8",
   "metadata": {
    "tags": []
   },
   "outputs": [
    {
     "data": {
      "text/html": [
       "<div>\n",
       "<style scoped>\n",
       "    .dataframe tbody tr th:only-of-type {\n",
       "        vertical-align: middle;\n",
       "    }\n",
       "\n",
       "    .dataframe tbody tr th {\n",
       "        vertical-align: top;\n",
       "    }\n",
       "\n",
       "    .dataframe thead th {\n",
       "        text-align: right;\n",
       "    }\n",
       "</style>\n",
       "<table border=\"1\" class=\"dataframe\">\n",
       "  <thead>\n",
       "    <tr style=\"text-align: right;\">\n",
       "      <th></th>\n",
       "      <th>id</th>\n",
       "      <th>source</th>\n",
       "      <th>url_link</th>\n",
       "      <th>comments</th>\n",
       "    </tr>\n",
       "  </thead>\n",
       "  <tbody>\n",
       "    <tr>\n",
       "      <th>0</th>\n",
       "      <td>1</td>\n",
       "      <td>Pixabay API</td>\n",
       "      <td>https://pixabay.com/service/about/api/</td>\n",
       "      <td>Images downloaded using API. All images are in...</td>\n",
       "    </tr>\n",
       "    <tr>\n",
       "      <th>1</th>\n",
       "      <td>2</td>\n",
       "      <td>DuckDuckGo API</td>\n",
       "      <td>https://rapidapi.com/epctex-epctex-default/api...</td>\n",
       "      <td>Images downloaded using API. All images are in...</td>\n",
       "    </tr>\n",
       "    <tr>\n",
       "      <th>2</th>\n",
       "      <td>3</td>\n",
       "      <td>Kaggle</td>\n",
       "      <td>https://www.kaggle.com/datasets/sudarshanvaidy...</td>\n",
       "      <td>Randomly selected images from data base availa...</td>\n",
       "    </tr>\n",
       "    <tr>\n",
       "      <th>3</th>\n",
       "      <td>4</td>\n",
       "      <td>FER-2013</td>\n",
       "      <td>https://www.kaggle.com/datasets/msambare/fer2013</td>\n",
       "      <td>Randomly selected images from FER-2013 data ba...</td>\n",
       "    </tr>\n",
       "  </tbody>\n",
       "</table>\n",
       "</div>"
      ],
      "text/plain": [
       "   id          source                                           url_link  \\\n",
       "0   1     Pixabay API             https://pixabay.com/service/about/api/   \n",
       "1   2  DuckDuckGo API  https://rapidapi.com/epctex-epctex-default/api...   \n",
       "2   3          Kaggle  https://www.kaggle.com/datasets/sudarshanvaidy...   \n",
       "3   4        FER-2013   https://www.kaggle.com/datasets/msambare/fer2013   \n",
       "\n",
       "                                            comments  \n",
       "0  Images downloaded using API. All images are in...  \n",
       "1  Images downloaded using API. All images are in...  \n",
       "2  Randomly selected images from data base availa...  \n",
       "3  Randomly selected images from FER-2013 data ba...  "
      ]
     },
     "execution_count": 5,
     "metadata": {},
     "output_type": "execute_result"
    }
   ],
   "source": [
    "sources"
   ]
  },
  {
   "cell_type": "raw",
   "id": "f8409e31-7947-43ec-bfa1-68119d115437",
   "metadata": {},
   "source": [
    "0 - Anger\n",
    "1 - Disgust\n",
    "2 - Fear\n",
    "3 - Happiness\n",
    "4 - Sadness\n",
    "5 - Surprise\n",
    "6 - Neutral\n",
    "7 - Contempt"
   ]
  },
  {
   "cell_type": "code",
   "execution_count": 6,
   "id": "676809a4-43c4-412a-b01e-9adc29f9374e",
   "metadata": {
    "tags": []
   },
   "outputs": [],
   "source": [
    "emotions_ids = pd.DataFrame({\n",
    "    'id' : [0, 1, 2, 3, 4, 5, 6, 7],\n",
    "    'emotion' : ['Anger', 'Disgust', 'Fear', 'Happiness', 'Sadness', 'Surprise', 'Neutral', 'Contempt']\n",
    "})"
   ]
  },
  {
   "cell_type": "code",
   "execution_count": 9,
   "id": "5d7990b3-2dd6-4883-ac7e-1f7a5a045796",
   "metadata": {
    "tags": []
   },
   "outputs": [
    {
     "data": {
      "text/html": [
       "<div>\n",
       "<style scoped>\n",
       "    .dataframe tbody tr th:only-of-type {\n",
       "        vertical-align: middle;\n",
       "    }\n",
       "\n",
       "    .dataframe tbody tr th {\n",
       "        vertical-align: top;\n",
       "    }\n",
       "\n",
       "    .dataframe thead th {\n",
       "        text-align: right;\n",
       "    }\n",
       "</style>\n",
       "<table border=\"1\" class=\"dataframe\">\n",
       "  <thead>\n",
       "    <tr style=\"text-align: right;\">\n",
       "      <th></th>\n",
       "      <th>id</th>\n",
       "      <th>emotion</th>\n",
       "    </tr>\n",
       "  </thead>\n",
       "  <tbody>\n",
       "    <tr>\n",
       "      <th>0</th>\n",
       "      <td>0</td>\n",
       "      <td>Anger</td>\n",
       "    </tr>\n",
       "    <tr>\n",
       "      <th>1</th>\n",
       "      <td>1</td>\n",
       "      <td>Disgust</td>\n",
       "    </tr>\n",
       "    <tr>\n",
       "      <th>2</th>\n",
       "      <td>2</td>\n",
       "      <td>Fear</td>\n",
       "    </tr>\n",
       "    <tr>\n",
       "      <th>3</th>\n",
       "      <td>3</td>\n",
       "      <td>Happiness</td>\n",
       "    </tr>\n",
       "    <tr>\n",
       "      <th>4</th>\n",
       "      <td>4</td>\n",
       "      <td>Sadness</td>\n",
       "    </tr>\n",
       "    <tr>\n",
       "      <th>5</th>\n",
       "      <td>5</td>\n",
       "      <td>Surprise</td>\n",
       "    </tr>\n",
       "    <tr>\n",
       "      <th>6</th>\n",
       "      <td>6</td>\n",
       "      <td>Neutral</td>\n",
       "    </tr>\n",
       "    <tr>\n",
       "      <th>7</th>\n",
       "      <td>7</td>\n",
       "      <td>Contempt</td>\n",
       "    </tr>\n",
       "  </tbody>\n",
       "</table>\n",
       "</div>"
      ],
      "text/plain": [
       "   id    emotion\n",
       "0   0      Anger\n",
       "1   1    Disgust\n",
       "2   2       Fear\n",
       "3   3  Happiness\n",
       "4   4    Sadness\n",
       "5   5   Surprise\n",
       "6   6    Neutral\n",
       "7   7   Contempt"
      ]
     },
     "execution_count": 9,
     "metadata": {},
     "output_type": "execute_result"
    }
   ],
   "source": [
    "emotions_ids"
   ]
  },
  {
   "cell_type": "markdown",
   "id": "c12e5c8d-d0af-458b-a199-42f8865cd23a",
   "metadata": {
    "tags": []
   },
   "source": [
    "## Select pictures from pixabay - after face detection"
   ]
  },
  {
   "cell_type": "code",
   "execution_count": 17,
   "id": "5850e3f5-cb4b-491c-8487-9f72f50dcd07",
   "metadata": {
    "tags": []
   },
   "outputs": [],
   "source": [
    "emotions = ['Anger', 'Disgust', 'Fear', 'Happiness', 'Neutral', 'Sadness', 'Surprise']"
   ]
  },
  {
   "cell_type": "code",
   "execution_count": 18,
   "id": "3d09c6b7-8104-4886-8000-a1c3e9b826ce",
   "metadata": {
    "tags": []
   },
   "outputs": [],
   "source": [
    "pixabay_path = '1_pixabay_images/1_Face_Extraction/'  "
   ]
  },
  {
   "cell_type": "code",
   "execution_count": 19,
   "id": "600cef36-a397-458c-9ad8-9ca951ccc662",
   "metadata": {
    "tags": []
   },
   "outputs": [],
   "source": [
    "pixabay = images_to_tables(pixabay_path, categories=emotions, source=1)"
   ]
  },
  {
   "cell_type": "code",
   "execution_count": 26,
   "id": "e4b3151c-f1ea-4c71-a9c2-067fe005f6fe",
   "metadata": {
    "tags": []
   },
   "outputs": [
    {
     "data": {
      "text/html": [
       "<div>\n",
       "<style scoped>\n",
       "    .dataframe tbody tr th:only-of-type {\n",
       "        vertical-align: middle;\n",
       "    }\n",
       "\n",
       "    .dataframe tbody tr th {\n",
       "        vertical-align: top;\n",
       "    }\n",
       "\n",
       "    .dataframe thead th {\n",
       "        text-align: right;\n",
       "    }\n",
       "</style>\n",
       "<table border=\"1\" class=\"dataframe\">\n",
       "  <thead>\n",
       "    <tr style=\"text-align: right;\">\n",
       "      <th></th>\n",
       "      <th>source_id</th>\n",
       "      <th>emotion_id</th>\n",
       "      <th>height</th>\n",
       "      <th>width</th>\n",
       "      <th>aspect_ratio</th>\n",
       "      <th>image_format</th>\n",
       "      <th>color_space</th>\n",
       "      <th>file_size_MB</th>\n",
       "      <th>pixels</th>\n",
       "    </tr>\n",
       "  </thead>\n",
       "  <tbody>\n",
       "    <tr>\n",
       "      <th>0</th>\n",
       "      <td>1</td>\n",
       "      <td>0</td>\n",
       "      <td>302</td>\n",
       "      <td>302</td>\n",
       "      <td>1.000000</td>\n",
       "      <td>JPG</td>\n",
       "      <td>RGB</td>\n",
       "      <td>0.022323</td>\n",
       "      <td>[[[255, 255, 255], [255, 255, 255], [255, 255,...</td>\n",
       "    </tr>\n",
       "    <tr>\n",
       "      <th>1</th>\n",
       "      <td>1</td>\n",
       "      <td>0</td>\n",
       "      <td>1218</td>\n",
       "      <td>1280</td>\n",
       "      <td>1.050903</td>\n",
       "      <td>JPG</td>\n",
       "      <td>RGB</td>\n",
       "      <td>0.439991</td>\n",
       "      <td>[[[68, 68, 68], [73, 73, 73], [63, 63, 63], [8...</td>\n",
       "    </tr>\n",
       "    <tr>\n",
       "      <th>2</th>\n",
       "      <td>1</td>\n",
       "      <td>0</td>\n",
       "      <td>620</td>\n",
       "      <td>620</td>\n",
       "      <td>1.000000</td>\n",
       "      <td>JPG</td>\n",
       "      <td>RGB</td>\n",
       "      <td>0.136570</td>\n",
       "      <td>[[[231, 231, 231], [232, 232, 232], [233, 233,...</td>\n",
       "    </tr>\n",
       "    <tr>\n",
       "      <th>3</th>\n",
       "      <td>1</td>\n",
       "      <td>0</td>\n",
       "      <td>410</td>\n",
       "      <td>410</td>\n",
       "      <td>1.000000</td>\n",
       "      <td>JPG</td>\n",
       "      <td>RGB</td>\n",
       "      <td>0.041554</td>\n",
       "      <td>[[[36, 36, 36], [36, 36, 36], [36, 36, 36], [3...</td>\n",
       "    </tr>\n",
       "    <tr>\n",
       "      <th>4</th>\n",
       "      <td>1</td>\n",
       "      <td>0</td>\n",
       "      <td>320</td>\n",
       "      <td>320</td>\n",
       "      <td>1.000000</td>\n",
       "      <td>JPG</td>\n",
       "      <td>RGB</td>\n",
       "      <td>0.078756</td>\n",
       "      <td>[[[255, 255, 255], [126, 126, 126], [79, 79, 7...</td>\n",
       "    </tr>\n",
       "    <tr>\n",
       "      <th>...</th>\n",
       "      <td>...</td>\n",
       "      <td>...</td>\n",
       "      <td>...</td>\n",
       "      <td>...</td>\n",
       "      <td>...</td>\n",
       "      <td>...</td>\n",
       "      <td>...</td>\n",
       "      <td>...</td>\n",
       "      <td>...</td>\n",
       "    </tr>\n",
       "    <tr>\n",
       "      <th>104</th>\n",
       "      <td>1</td>\n",
       "      <td>5</td>\n",
       "      <td>412</td>\n",
       "      <td>412</td>\n",
       "      <td>1.000000</td>\n",
       "      <td>JPG</td>\n",
       "      <td>RGB</td>\n",
       "      <td>0.051921</td>\n",
       "      <td>[[[12, 2, 2], [12, 2, 2], [12, 2, 2], [11, 1, ...</td>\n",
       "    </tr>\n",
       "    <tr>\n",
       "      <th>105</th>\n",
       "      <td>1</td>\n",
       "      <td>5</td>\n",
       "      <td>206</td>\n",
       "      <td>206</td>\n",
       "      <td>1.000000</td>\n",
       "      <td>JPG</td>\n",
       "      <td>RGB</td>\n",
       "      <td>0.019261</td>\n",
       "      <td>[[[244, 240, 245], [245, 241, 246], [243, 240,...</td>\n",
       "    </tr>\n",
       "    <tr>\n",
       "      <th>106</th>\n",
       "      <td>1</td>\n",
       "      <td>5</td>\n",
       "      <td>863</td>\n",
       "      <td>857</td>\n",
       "      <td>0.993048</td>\n",
       "      <td>JPG</td>\n",
       "      <td>RGB</td>\n",
       "      <td>0.248372</td>\n",
       "      <td>[[[40, 40, 40], [39, 39, 39], [46, 46, 46], [5...</td>\n",
       "    </tr>\n",
       "    <tr>\n",
       "      <th>107</th>\n",
       "      <td>1</td>\n",
       "      <td>5</td>\n",
       "      <td>629</td>\n",
       "      <td>626</td>\n",
       "      <td>0.995231</td>\n",
       "      <td>JPG</td>\n",
       "      <td>RGB</td>\n",
       "      <td>0.103067</td>\n",
       "      <td>[[[252, 252, 252], [254, 254, 254], [255, 255,...</td>\n",
       "    </tr>\n",
       "    <tr>\n",
       "      <th>108</th>\n",
       "      <td>1</td>\n",
       "      <td>5</td>\n",
       "      <td>275</td>\n",
       "      <td>275</td>\n",
       "      <td>1.000000</td>\n",
       "      <td>JPG</td>\n",
       "      <td>RGB</td>\n",
       "      <td>0.033613</td>\n",
       "      <td>[[[28, 35, 55], [30, 37, 57], [9, 16, 36], [1,...</td>\n",
       "    </tr>\n",
       "  </tbody>\n",
       "</table>\n",
       "<p>109 rows × 9 columns</p>\n",
       "</div>"
      ],
      "text/plain": [
       "     source_id  emotion_id  height  width  aspect_ratio image_format  \\\n",
       "0            1           0     302    302      1.000000          JPG   \n",
       "1            1           0    1218   1280      1.050903          JPG   \n",
       "2            1           0     620    620      1.000000          JPG   \n",
       "3            1           0     410    410      1.000000          JPG   \n",
       "4            1           0     320    320      1.000000          JPG   \n",
       "..         ...         ...     ...    ...           ...          ...   \n",
       "104          1           5     412    412      1.000000          JPG   \n",
       "105          1           5     206    206      1.000000          JPG   \n",
       "106          1           5     863    857      0.993048          JPG   \n",
       "107          1           5     629    626      0.995231          JPG   \n",
       "108          1           5     275    275      1.000000          JPG   \n",
       "\n",
       "    color_space  file_size_MB  \\\n",
       "0           RGB      0.022323   \n",
       "1           RGB      0.439991   \n",
       "2           RGB      0.136570   \n",
       "3           RGB      0.041554   \n",
       "4           RGB      0.078756   \n",
       "..          ...           ...   \n",
       "104         RGB      0.051921   \n",
       "105         RGB      0.019261   \n",
       "106         RGB      0.248372   \n",
       "107         RGB      0.103067   \n",
       "108         RGB      0.033613   \n",
       "\n",
       "                                                pixels  \n",
       "0    [[[255, 255, 255], [255, 255, 255], [255, 255,...  \n",
       "1    [[[68, 68, 68], [73, 73, 73], [63, 63, 63], [8...  \n",
       "2    [[[231, 231, 231], [232, 232, 232], [233, 233,...  \n",
       "3    [[[36, 36, 36], [36, 36, 36], [36, 36, 36], [3...  \n",
       "4    [[[255, 255, 255], [126, 126, 126], [79, 79, 7...  \n",
       "..                                                 ...  \n",
       "104  [[[12, 2, 2], [12, 2, 2], [12, 2, 2], [11, 1, ...  \n",
       "105  [[[244, 240, 245], [245, 241, 246], [243, 240,...  \n",
       "106  [[[40, 40, 40], [39, 39, 39], [46, 46, 46], [5...  \n",
       "107  [[[252, 252, 252], [254, 254, 254], [255, 255,...  \n",
       "108  [[[28, 35, 55], [30, 37, 57], [9, 16, 36], [1,...  \n",
       "\n",
       "[109 rows x 9 columns]"
      ]
     },
     "execution_count": 26,
     "metadata": {},
     "output_type": "execute_result"
    }
   ],
   "source": [
    "pixabay"
   ]
  },
  {
   "cell_type": "code",
   "execution_count": 20,
   "id": "18a98b3f-6be2-499e-8c81-b3ac20ed5226",
   "metadata": {
    "tags": []
   },
   "outputs": [],
   "source": [
    "pixabay['color_space'] = pixabay['color_space'].map({3 : 'RGB'})"
   ]
  },
  {
   "cell_type": "code",
   "execution_count": 21,
   "id": "1c08a607-d1d5-4272-9672-6165a4e5cfbc",
   "metadata": {
    "tags": []
   },
   "outputs": [
    {
     "data": {
      "text/plain": [
       "emotion_id\n",
       "3    26\n",
       "6    25\n",
       "0    18\n",
       "5    18\n",
       "4    15\n",
       "2     4\n",
       "1     3\n",
       "Name: count, dtype: int64"
      ]
     },
     "execution_count": 21,
     "metadata": {},
     "output_type": "execute_result"
    }
   ],
   "source": [
    "pixabay['emotion_id'].value_counts()"
   ]
  },
  {
   "cell_type": "code",
   "execution_count": 189,
   "id": "c7ca8976-7dae-4559-a2ee-9fd63ccd8381",
   "metadata": {
    "tags": []
   },
   "outputs": [
    {
     "data": {
      "text/plain": [
       "emotion\n",
       "3    26\n",
       "6    25\n",
       "0    18\n",
       "5    18\n",
       "4    15\n",
       "2     4\n",
       "1     3\n",
       "Name: count, dtype: int64"
      ]
     },
     "execution_count": 189,
     "metadata": {},
     "output_type": "execute_result"
    }
   ],
   "source": [
    "pixabay['emotion'].value_counts(dropna=False)"
   ]
  },
  {
   "cell_type": "code",
   "execution_count": 200,
   "id": "fe6d6b70-682b-468a-861f-0f2a45fc9444",
   "metadata": {
    "tags": []
   },
   "outputs": [
    {
     "data": {
      "text/html": [
       "<div>\n",
       "<style scoped>\n",
       "    .dataframe tbody tr th:only-of-type {\n",
       "        vertical-align: middle;\n",
       "    }\n",
       "\n",
       "    .dataframe tbody tr th {\n",
       "        vertical-align: top;\n",
       "    }\n",
       "\n",
       "    .dataframe thead th {\n",
       "        text-align: right;\n",
       "    }\n",
       "</style>\n",
       "<table border=\"1\" class=\"dataframe\">\n",
       "  <thead>\n",
       "    <tr style=\"text-align: right;\">\n",
       "      <th></th>\n",
       "      <th>source_id</th>\n",
       "      <th>emotion_id</th>\n",
       "      <th>height</th>\n",
       "      <th>width</th>\n",
       "      <th>aspect_ratio</th>\n",
       "      <th>color_space</th>\n",
       "      <th>file_size_MB</th>\n",
       "    </tr>\n",
       "  </thead>\n",
       "  <tbody>\n",
       "    <tr>\n",
       "      <th>count</th>\n",
       "      <td>109.0</td>\n",
       "      <td>109.000000</td>\n",
       "      <td>109.000000</td>\n",
       "      <td>109.000000</td>\n",
       "      <td>109.000000</td>\n",
       "      <td>109.0</td>\n",
       "      <td>109.000000</td>\n",
       "    </tr>\n",
       "    <tr>\n",
       "      <th>mean</th>\n",
       "      <td>1.0</td>\n",
       "      <td>3.568807</td>\n",
       "      <td>498.972477</td>\n",
       "      <td>495.045872</td>\n",
       "      <td>0.996490</td>\n",
       "      <td>3.0</td>\n",
       "      <td>0.092099</td>\n",
       "    </tr>\n",
       "    <tr>\n",
       "      <th>std</th>\n",
       "      <td>0.0</td>\n",
       "      <td>2.051950</td>\n",
       "      <td>214.119492</td>\n",
       "      <td>204.756829</td>\n",
       "      <td>0.029937</td>\n",
       "      <td>0.0</td>\n",
       "      <td>0.069966</td>\n",
       "    </tr>\n",
       "    <tr>\n",
       "      <th>min</th>\n",
       "      <td>1.0</td>\n",
       "      <td>0.000000</td>\n",
       "      <td>139.000000</td>\n",
       "      <td>139.000000</td>\n",
       "      <td>0.722656</td>\n",
       "      <td>3.0</td>\n",
       "      <td>0.009028</td>\n",
       "    </tr>\n",
       "    <tr>\n",
       "      <th>25%</th>\n",
       "      <td>1.0</td>\n",
       "      <td>3.000000</td>\n",
       "      <td>334.000000</td>\n",
       "      <td>333.000000</td>\n",
       "      <td>1.000000</td>\n",
       "      <td>3.0</td>\n",
       "      <td>0.034948</td>\n",
       "    </tr>\n",
       "    <tr>\n",
       "      <th>50%</th>\n",
       "      <td>1.0</td>\n",
       "      <td>4.000000</td>\n",
       "      <td>484.000000</td>\n",
       "      <td>484.000000</td>\n",
       "      <td>1.000000</td>\n",
       "      <td>3.0</td>\n",
       "      <td>0.079226</td>\n",
       "    </tr>\n",
       "    <tr>\n",
       "      <th>75%</th>\n",
       "      <td>1.0</td>\n",
       "      <td>5.000000</td>\n",
       "      <td>626.000000</td>\n",
       "      <td>626.000000</td>\n",
       "      <td>1.000000</td>\n",
       "      <td>3.0</td>\n",
       "      <td>0.132438</td>\n",
       "    </tr>\n",
       "    <tr>\n",
       "      <th>max</th>\n",
       "      <td>1.0</td>\n",
       "      <td>6.000000</td>\n",
       "      <td>1280.000000</td>\n",
       "      <td>1280.000000</td>\n",
       "      <td>1.050903</td>\n",
       "      <td>3.0</td>\n",
       "      <td>0.439991</td>\n",
       "    </tr>\n",
       "  </tbody>\n",
       "</table>\n",
       "</div>"
      ],
      "text/plain": [
       "       source_id  emotion_id       height        width  aspect_ratio  \\\n",
       "count      109.0  109.000000   109.000000   109.000000    109.000000   \n",
       "mean         1.0    3.568807   498.972477   495.045872      0.996490   \n",
       "std          0.0    2.051950   214.119492   204.756829      0.029937   \n",
       "min          1.0    0.000000   139.000000   139.000000      0.722656   \n",
       "25%          1.0    3.000000   334.000000   333.000000      1.000000   \n",
       "50%          1.0    4.000000   484.000000   484.000000      1.000000   \n",
       "75%          1.0    5.000000   626.000000   626.000000      1.000000   \n",
       "max          1.0    6.000000  1280.000000  1280.000000      1.050903   \n",
       "\n",
       "       color_space  file_size_MB  \n",
       "count        109.0    109.000000  \n",
       "mean           3.0      0.092099  \n",
       "std            0.0      0.069966  \n",
       "min            3.0      0.009028  \n",
       "25%            3.0      0.034948  \n",
       "50%            3.0      0.079226  \n",
       "75%            3.0      0.132438  \n",
       "max            3.0      0.439991  "
      ]
     },
     "execution_count": 200,
     "metadata": {},
     "output_type": "execute_result"
    }
   ],
   "source": [
    "pixabay.describe()"
   ]
  },
  {
   "cell_type": "code",
   "execution_count": 22,
   "id": "e6d11430-4b63-44d2-85f5-7dfc5fb0f183",
   "metadata": {
    "tags": []
   },
   "outputs": [
    {
     "data": {
      "text/plain": [
       "source_id         int64\n",
       "emotion_id        int64\n",
       "height            int64\n",
       "width             int64\n",
       "aspect_ratio    float64\n",
       "image_format     object\n",
       "color_space      object\n",
       "file_size_MB    float64\n",
       "pixels           object\n",
       "dtype: object"
      ]
     },
     "execution_count": 22,
     "metadata": {},
     "output_type": "execute_result"
    }
   ],
   "source": [
    "pixabay.dtypes"
   ]
  },
  {
   "cell_type": "code",
   "execution_count": 23,
   "id": "27f14997-532e-4390-acdc-db4df8ece152",
   "metadata": {
    "tags": []
   },
   "outputs": [
    {
     "data": {
      "text/plain": [
       "aspect_ratio\n",
       "1.000000    92\n",
       "1.050903     1\n",
       "0.993048     1\n",
       "0.993954     1\n",
       "0.993949     1\n",
       "1.001792     1\n",
       "1.002210     1\n",
       "0.993377     1\n",
       "1.006316     1\n",
       "1.001894     1\n",
       "0.998829     1\n",
       "0.998004     1\n",
       "0.997006     1\n",
       "1.003717     1\n",
       "0.995485     1\n",
       "1.006098     1\n",
       "0.864713     1\n",
       "0.995231     1\n",
       "Name: count, dtype: int64"
      ]
     },
     "execution_count": 23,
     "metadata": {},
     "output_type": "execute_result"
    }
   ],
   "source": [
    "pixabay['aspect_ratio'].value_counts()"
   ]
  },
  {
   "cell_type": "code",
   "execution_count": 24,
   "id": "41410e42-4623-4f4c-b642-fe5a78f3385d",
   "metadata": {
    "tags": []
   },
   "outputs": [
    {
     "data": {
      "text/plain": [
       "0.8647125140924464"
      ]
     },
     "execution_count": 24,
     "metadata": {},
     "output_type": "execute_result"
    }
   ],
   "source": [
    "pixabay['aspect_ratio'].min()"
   ]
  },
  {
   "cell_type": "code",
   "execution_count": 25,
   "id": "38ba3b05-5967-4074-9c79-7a8a163e46c4",
   "metadata": {
    "tags": []
   },
   "outputs": [
    {
     "data": {
      "text/plain": [
       "1.0509031198686372"
      ]
     },
     "execution_count": 25,
     "metadata": {},
     "output_type": "execute_result"
    }
   ],
   "source": [
    "pixabay['aspect_ratio'].max()"
   ]
  },
  {
   "cell_type": "code",
   "execution_count": 126,
   "id": "d96cd71b-5151-4872-bfbf-d740602ba44d",
   "metadata": {
    "tags": []
   },
   "outputs": [],
   "source": [
    "# df = pd.read_csv('test_pixabay_set.csv', sep = ',')"
   ]
  },
  {
   "cell_type": "markdown",
   "id": "69bdda72-4775-4b0a-8984-0889798a8c8c",
   "metadata": {
    "tags": []
   },
   "source": [
    "## Pictures from DuckDuckGo after face detection"
   ]
  },
  {
   "cell_type": "code",
   "execution_count": 28,
   "id": "300d3a30-6062-4844-b450-27d8f887c38a",
   "metadata": {
    "tags": []
   },
   "outputs": [],
   "source": [
    "ddg_path = '2_duckduckgo_images/1_Face_Extraction/' "
   ]
  },
  {
   "cell_type": "code",
   "execution_count": 29,
   "id": "79c5164d-d0c4-4ee0-9170-fccdb2edebb9",
   "metadata": {
    "tags": []
   },
   "outputs": [],
   "source": [
    "ddg = images_to_tables(ddg_path, categories=emotions, source=2)"
   ]
  },
  {
   "cell_type": "code",
   "execution_count": 30,
   "id": "e2ec48c6-a609-4cf7-8584-a4d74885c25d",
   "metadata": {
    "tags": []
   },
   "outputs": [],
   "source": [
    "ddg['color_space'] = ddg['color_space'].map({3 : 'RGB'})"
   ]
  },
  {
   "cell_type": "code",
   "execution_count": 31,
   "id": "f1044220-1046-4bce-9e65-6fb78bb4fc98",
   "metadata": {
    "tags": []
   },
   "outputs": [
    {
     "data": {
      "text/plain": [
       "emotion_id\n",
       "5    80\n",
       "3    79\n",
       "1    63\n",
       "0    62\n",
       "6    58\n",
       "2    55\n",
       "4    51\n",
       "Name: count, dtype: int64"
      ]
     },
     "execution_count": 31,
     "metadata": {},
     "output_type": "execute_result"
    }
   ],
   "source": [
    "ddg['emotion_id'].value_counts()"
   ]
  },
  {
   "cell_type": "code",
   "execution_count": 211,
   "id": "d49c6e64-f439-4e74-83c2-38b86dd9585d",
   "metadata": {
    "tags": []
   },
   "outputs": [
    {
     "data": {
      "text/plain": [
       "(448, 9)"
      ]
     },
     "execution_count": 211,
     "metadata": {},
     "output_type": "execute_result"
    }
   ],
   "source": [
    "ddg.shape"
   ]
  },
  {
   "cell_type": "code",
   "execution_count": 243,
   "id": "61011aac-d9c3-4215-960b-356cfd83b5ff",
   "metadata": {
    "tags": []
   },
   "outputs": [
    {
     "data": {
      "text/plain": [
       "(0.8986568986568987, 1.0364372469635628)"
      ]
     },
     "execution_count": 243,
     "metadata": {},
     "output_type": "execute_result"
    }
   ],
   "source": [
    "ddg['aspect_ratio'].min(), ddg['aspect_ratio'].max()"
   ]
  },
  {
   "cell_type": "code",
   "execution_count": 239,
   "id": "d8b1130c-4a38-4463-ba08-b1e400f94a2c",
   "metadata": {
    "tags": []
   },
   "outputs": [
    {
     "data": {
      "text/plain": [
       "aspect_ratio\n",
       "1.000000    429\n",
       "0.998473      1\n",
       "0.898657      1\n",
       "0.903955      1\n",
       "0.998575      1\n",
       "0.993410      1\n",
       "0.905775      1\n",
       "0.995546      1\n",
       "1.005017      1\n",
       "0.995918      1\n",
       "0.995627      1\n",
       "0.990964      1\n",
       "1.036437      1\n",
       "1.031000      1\n",
       "1.014388      1\n",
       "0.997093      1\n",
       "1.003645      1\n",
       "0.998206      1\n",
       "0.995717      1\n",
       "0.986861      1\n",
       "Name: count, dtype: int64"
      ]
     },
     "execution_count": 239,
     "metadata": {},
     "output_type": "execute_result"
    }
   ],
   "source": [
    "ddg['aspect_ratio'].value_counts()"
   ]
  },
  {
   "cell_type": "markdown",
   "id": "67ad78bf-cd71-4e84-9c49-7a21d4c58eb9",
   "metadata": {
    "tags": []
   },
   "source": [
    "## Seleced pictures from Kaggle"
   ]
  },
  {
   "cell_type": "code",
   "execution_count": 33,
   "id": "cc5beed9-d287-4295-85a9-e1d1de719308",
   "metadata": {
    "tags": []
   },
   "outputs": [],
   "source": [
    "kaggle_path = '3_Kaggle_Natural_human_face_recognition_224x224px/1_Selected/' "
   ]
  },
  {
   "cell_type": "code",
   "execution_count": 34,
   "id": "9045b7a9-4a7d-4af5-9a00-177536c9331a",
   "metadata": {
    "tags": []
   },
   "outputs": [],
   "source": [
    "kaggle = images_to_tables(kaggle_path, categories=emotions, source=3)"
   ]
  },
  {
   "cell_type": "code",
   "execution_count": 35,
   "id": "77482cdb-4c98-466d-8ed4-e4538c33d338",
   "metadata": {
    "tags": []
   },
   "outputs": [],
   "source": [
    "kaggle['color_space'] = kaggle['color_space'].map({3 : 'Grayscale'})"
   ]
  },
  {
   "cell_type": "code",
   "execution_count": 36,
   "id": "b319a9ff-5f33-4f38-9138-b226d77d80ce",
   "metadata": {
    "tags": []
   },
   "outputs": [
    {
     "data": {
      "text/plain": [
       "emotion_id\n",
       "0    200\n",
       "1    200\n",
       "2    200\n",
       "3    200\n",
       "6    200\n",
       "4    200\n",
       "5    200\n",
       "Name: count, dtype: int64"
      ]
     },
     "execution_count": 36,
     "metadata": {},
     "output_type": "execute_result"
    }
   ],
   "source": [
    "kaggle['emotion_id'].value_counts()"
   ]
  },
  {
   "cell_type": "code",
   "execution_count": 251,
   "id": "64e89464-0225-4fbc-bd16-f0e8dac264e4",
   "metadata": {
    "tags": []
   },
   "outputs": [
    {
     "data": {
      "text/html": [
       "<div>\n",
       "<style scoped>\n",
       "    .dataframe tbody tr th:only-of-type {\n",
       "        vertical-align: middle;\n",
       "    }\n",
       "\n",
       "    .dataframe tbody tr th {\n",
       "        vertical-align: top;\n",
       "    }\n",
       "\n",
       "    .dataframe thead th {\n",
       "        text-align: right;\n",
       "    }\n",
       "</style>\n",
       "<table border=\"1\" class=\"dataframe\">\n",
       "  <thead>\n",
       "    <tr style=\"text-align: right;\">\n",
       "      <th></th>\n",
       "      <th>source_id</th>\n",
       "      <th>emotion_id</th>\n",
       "      <th>height</th>\n",
       "      <th>width</th>\n",
       "      <th>aspect_ratio</th>\n",
       "      <th>image_format</th>\n",
       "      <th>color_space</th>\n",
       "      <th>file_size_MB</th>\n",
       "      <th>pixels</th>\n",
       "    </tr>\n",
       "  </thead>\n",
       "  <tbody>\n",
       "    <tr>\n",
       "      <th>0</th>\n",
       "      <td>3</td>\n",
       "      <td>0</td>\n",
       "      <td>224</td>\n",
       "      <td>224</td>\n",
       "      <td>1.0</td>\n",
       "      <td>PNG</td>\n",
       "      <td>Grayscale</td>\n",
       "      <td>0.006985</td>\n",
       "      <td>[[[63, 63, 63], [63, 63, 63], [63, 63, 63], [8...</td>\n",
       "    </tr>\n",
       "    <tr>\n",
       "      <th>1</th>\n",
       "      <td>3</td>\n",
       "      <td>0</td>\n",
       "      <td>224</td>\n",
       "      <td>224</td>\n",
       "      <td>1.0</td>\n",
       "      <td>PNG</td>\n",
       "      <td>Grayscale</td>\n",
       "      <td>0.007193</td>\n",
       "      <td>[[[8, 8, 8], [8, 8, 8], [8, 8, 8], [6, 6, 6], ...</td>\n",
       "    </tr>\n",
       "    <tr>\n",
       "      <th>2</th>\n",
       "      <td>3</td>\n",
       "      <td>0</td>\n",
       "      <td>224</td>\n",
       "      <td>224</td>\n",
       "      <td>1.0</td>\n",
       "      <td>PNG</td>\n",
       "      <td>Grayscale</td>\n",
       "      <td>0.010216</td>\n",
       "      <td>[[[38, 38, 38], [38, 38, 38], [38, 38, 38], [3...</td>\n",
       "    </tr>\n",
       "    <tr>\n",
       "      <th>3</th>\n",
       "      <td>3</td>\n",
       "      <td>0</td>\n",
       "      <td>224</td>\n",
       "      <td>224</td>\n",
       "      <td>1.0</td>\n",
       "      <td>PNG</td>\n",
       "      <td>Grayscale</td>\n",
       "      <td>0.006433</td>\n",
       "      <td>[[[47, 47, 47], [47, 47, 47], [47, 47, 47], [4...</td>\n",
       "    </tr>\n",
       "    <tr>\n",
       "      <th>4</th>\n",
       "      <td>3</td>\n",
       "      <td>0</td>\n",
       "      <td>224</td>\n",
       "      <td>224</td>\n",
       "      <td>1.0</td>\n",
       "      <td>PNG</td>\n",
       "      <td>Grayscale</td>\n",
       "      <td>0.005840</td>\n",
       "      <td>[[[21, 21, 21], [21, 21, 21], [21, 21, 21], [2...</td>\n",
       "    </tr>\n",
       "    <tr>\n",
       "      <th>...</th>\n",
       "      <td>...</td>\n",
       "      <td>...</td>\n",
       "      <td>...</td>\n",
       "      <td>...</td>\n",
       "      <td>...</td>\n",
       "      <td>...</td>\n",
       "      <td>...</td>\n",
       "      <td>...</td>\n",
       "      <td>...</td>\n",
       "    </tr>\n",
       "    <tr>\n",
       "      <th>695</th>\n",
       "      <td>3</td>\n",
       "      <td>5</td>\n",
       "      <td>224</td>\n",
       "      <td>224</td>\n",
       "      <td>1.0</td>\n",
       "      <td>PNG</td>\n",
       "      <td>Grayscale</td>\n",
       "      <td>0.003623</td>\n",
       "      <td>[[[187, 187, 187], [187, 187, 187], [187, 187,...</td>\n",
       "    </tr>\n",
       "    <tr>\n",
       "      <th>696</th>\n",
       "      <td>3</td>\n",
       "      <td>5</td>\n",
       "      <td>224</td>\n",
       "      <td>224</td>\n",
       "      <td>1.0</td>\n",
       "      <td>PNG</td>\n",
       "      <td>Grayscale</td>\n",
       "      <td>0.004206</td>\n",
       "      <td>[[[183, 183, 183], [183, 183, 183], [183, 183,...</td>\n",
       "    </tr>\n",
       "    <tr>\n",
       "      <th>697</th>\n",
       "      <td>3</td>\n",
       "      <td>5</td>\n",
       "      <td>224</td>\n",
       "      <td>224</td>\n",
       "      <td>1.0</td>\n",
       "      <td>PNG</td>\n",
       "      <td>Grayscale</td>\n",
       "      <td>0.011027</td>\n",
       "      <td>[[[139, 139, 139], [139, 139, 139], [145, 145,...</td>\n",
       "    </tr>\n",
       "    <tr>\n",
       "      <th>698</th>\n",
       "      <td>3</td>\n",
       "      <td>5</td>\n",
       "      <td>224</td>\n",
       "      <td>224</td>\n",
       "      <td>1.0</td>\n",
       "      <td>PNG</td>\n",
       "      <td>Grayscale</td>\n",
       "      <td>0.011926</td>\n",
       "      <td>[[[161, 161, 161], [161, 161, 161], [82, 82, 8...</td>\n",
       "    </tr>\n",
       "    <tr>\n",
       "      <th>699</th>\n",
       "      <td>3</td>\n",
       "      <td>5</td>\n",
       "      <td>224</td>\n",
       "      <td>224</td>\n",
       "      <td>1.0</td>\n",
       "      <td>PNG</td>\n",
       "      <td>Grayscale</td>\n",
       "      <td>0.010160</td>\n",
       "      <td>[[[34, 34, 34], [34, 34, 34], [36, 36, 36], [3...</td>\n",
       "    </tr>\n",
       "  </tbody>\n",
       "</table>\n",
       "<p>700 rows × 9 columns</p>\n",
       "</div>"
      ],
      "text/plain": [
       "     source_id  emotion_id  height  width  aspect_ratio image_format  \\\n",
       "0            3           0     224    224           1.0          PNG   \n",
       "1            3           0     224    224           1.0          PNG   \n",
       "2            3           0     224    224           1.0          PNG   \n",
       "3            3           0     224    224           1.0          PNG   \n",
       "4            3           0     224    224           1.0          PNG   \n",
       "..         ...         ...     ...    ...           ...          ...   \n",
       "695          3           5     224    224           1.0          PNG   \n",
       "696          3           5     224    224           1.0          PNG   \n",
       "697          3           5     224    224           1.0          PNG   \n",
       "698          3           5     224    224           1.0          PNG   \n",
       "699          3           5     224    224           1.0          PNG   \n",
       "\n",
       "    color_space  file_size_MB  \\\n",
       "0     Grayscale      0.006985   \n",
       "1     Grayscale      0.007193   \n",
       "2     Grayscale      0.010216   \n",
       "3     Grayscale      0.006433   \n",
       "4     Grayscale      0.005840   \n",
       "..          ...           ...   \n",
       "695   Grayscale      0.003623   \n",
       "696   Grayscale      0.004206   \n",
       "697   Grayscale      0.011027   \n",
       "698   Grayscale      0.011926   \n",
       "699   Grayscale      0.010160   \n",
       "\n",
       "                                                pixels  \n",
       "0    [[[63, 63, 63], [63, 63, 63], [63, 63, 63], [8...  \n",
       "1    [[[8, 8, 8], [8, 8, 8], [8, 8, 8], [6, 6, 6], ...  \n",
       "2    [[[38, 38, 38], [38, 38, 38], [38, 38, 38], [3...  \n",
       "3    [[[47, 47, 47], [47, 47, 47], [47, 47, 47], [4...  \n",
       "4    [[[21, 21, 21], [21, 21, 21], [21, 21, 21], [2...  \n",
       "..                                                 ...  \n",
       "695  [[[187, 187, 187], [187, 187, 187], [187, 187,...  \n",
       "696  [[[183, 183, 183], [183, 183, 183], [183, 183,...  \n",
       "697  [[[139, 139, 139], [139, 139, 139], [145, 145,...  \n",
       "698  [[[161, 161, 161], [161, 161, 161], [82, 82, 8...  \n",
       "699  [[[34, 34, 34], [34, 34, 34], [36, 36, 36], [3...  \n",
       "\n",
       "[700 rows x 9 columns]"
      ]
     },
     "execution_count": 251,
     "metadata": {},
     "output_type": "execute_result"
    }
   ],
   "source": [
    "kaggle"
   ]
  },
  {
   "cell_type": "markdown",
   "id": "85bfd923-303b-4240-b3ce-6bcd3cbec0f2",
   "metadata": {
    "tags": []
   },
   "source": [
    "## Selected images from FER-2013"
   ]
  },
  {
   "cell_type": "code",
   "execution_count": 38,
   "id": "99c3a9db-3644-4318-aa26-7f6bdea992b4",
   "metadata": {
    "tags": []
   },
   "outputs": [],
   "source": [
    "FER2013_path = '4_FER-2013-Kaggle/1_Selected/' "
   ]
  },
  {
   "cell_type": "code",
   "execution_count": 39,
   "id": "ab0fb849-244f-408b-9691-8381ca330fdb",
   "metadata": {
    "tags": []
   },
   "outputs": [],
   "source": [
    "FER2013 = images_to_tables(FER2013_path, categories=emotions, source=4)"
   ]
  },
  {
   "cell_type": "code",
   "execution_count": 40,
   "id": "a027d609-dad1-4f1c-aa6b-b5ce2cf405f7",
   "metadata": {
    "tags": []
   },
   "outputs": [],
   "source": [
    "FER2013['color_space'] = FER2013['color_space'].map({3 : 'Grayscale'})"
   ]
  },
  {
   "cell_type": "code",
   "execution_count": 41,
   "id": "2427a1ad-1cb6-4bdd-b7cd-cfe54ca68e96",
   "metadata": {
    "tags": []
   },
   "outputs": [
    {
     "data": {
      "text/plain": [
       "emotion_id\n",
       "0    200\n",
       "1    200\n",
       "2    200\n",
       "3    200\n",
       "6    200\n",
       "4    200\n",
       "5    200\n",
       "Name: count, dtype: int64"
      ]
     },
     "execution_count": 41,
     "metadata": {},
     "output_type": "execute_result"
    }
   ],
   "source": [
    "FER2013['emotion_id'].value_counts()"
   ]
  },
  {
   "cell_type": "code",
   "execution_count": 236,
   "id": "d32382f6-be89-4a4f-857a-6d1a424741a7",
   "metadata": {
    "tags": []
   },
   "outputs": [
    {
     "data": {
      "text/html": [
       "<div>\n",
       "<style scoped>\n",
       "    .dataframe tbody tr th:only-of-type {\n",
       "        vertical-align: middle;\n",
       "    }\n",
       "\n",
       "    .dataframe tbody tr th {\n",
       "        vertical-align: top;\n",
       "    }\n",
       "\n",
       "    .dataframe thead th {\n",
       "        text-align: right;\n",
       "    }\n",
       "</style>\n",
       "<table border=\"1\" class=\"dataframe\">\n",
       "  <thead>\n",
       "    <tr style=\"text-align: right;\">\n",
       "      <th></th>\n",
       "      <th>source_id</th>\n",
       "      <th>emotion_id</th>\n",
       "      <th>height</th>\n",
       "      <th>width</th>\n",
       "      <th>aspect_ratio</th>\n",
       "      <th>image_format</th>\n",
       "      <th>color_space</th>\n",
       "      <th>file_size_MB</th>\n",
       "      <th>pixels</th>\n",
       "    </tr>\n",
       "  </thead>\n",
       "  <tbody>\n",
       "    <tr>\n",
       "      <th>0</th>\n",
       "      <td>4</td>\n",
       "      <td>0</td>\n",
       "      <td>48</td>\n",
       "      <td>48</td>\n",
       "      <td>1.0</td>\n",
       "      <td>JPG</td>\n",
       "      <td>3</td>\n",
       "      <td>0.001474</td>\n",
       "      <td>[[[155, 155, 155], [138, 138, 138], [98, 98, 9...</td>\n",
       "    </tr>\n",
       "    <tr>\n",
       "      <th>1</th>\n",
       "      <td>4</td>\n",
       "      <td>0</td>\n",
       "      <td>48</td>\n",
       "      <td>48</td>\n",
       "      <td>1.0</td>\n",
       "      <td>JPG</td>\n",
       "      <td>3</td>\n",
       "      <td>0.001587</td>\n",
       "      <td>[[[119, 119, 119], [132, 132, 132], [143, 143,...</td>\n",
       "    </tr>\n",
       "    <tr>\n",
       "      <th>2</th>\n",
       "      <td>4</td>\n",
       "      <td>0</td>\n",
       "      <td>48</td>\n",
       "      <td>48</td>\n",
       "      <td>1.0</td>\n",
       "      <td>JPG</td>\n",
       "      <td>3</td>\n",
       "      <td>0.001643</td>\n",
       "      <td>[[[122, 122, 122], [99, 99, 99], [72, 72, 72],...</td>\n",
       "    </tr>\n",
       "    <tr>\n",
       "      <th>3</th>\n",
       "      <td>4</td>\n",
       "      <td>0</td>\n",
       "      <td>48</td>\n",
       "      <td>48</td>\n",
       "      <td>1.0</td>\n",
       "      <td>JPG</td>\n",
       "      <td>3</td>\n",
       "      <td>0.001677</td>\n",
       "      <td>[[[43, 43, 43], [68, 68, 68], [57, 57, 57], [7...</td>\n",
       "    </tr>\n",
       "    <tr>\n",
       "      <th>4</th>\n",
       "      <td>4</td>\n",
       "      <td>0</td>\n",
       "      <td>48</td>\n",
       "      <td>48</td>\n",
       "      <td>1.0</td>\n",
       "      <td>JPG</td>\n",
       "      <td>3</td>\n",
       "      <td>0.001497</td>\n",
       "      <td>[[[2, 2, 2], [2, 2, 2], [6, 6, 6], [5, 5, 5], ...</td>\n",
       "    </tr>\n",
       "    <tr>\n",
       "      <th>...</th>\n",
       "      <td>...</td>\n",
       "      <td>...</td>\n",
       "      <td>...</td>\n",
       "      <td>...</td>\n",
       "      <td>...</td>\n",
       "      <td>...</td>\n",
       "      <td>...</td>\n",
       "      <td>...</td>\n",
       "      <td>...</td>\n",
       "    </tr>\n",
       "    <tr>\n",
       "      <th>695</th>\n",
       "      <td>4</td>\n",
       "      <td>5</td>\n",
       "      <td>48</td>\n",
       "      <td>48</td>\n",
       "      <td>1.0</td>\n",
       "      <td>JPG</td>\n",
       "      <td>3</td>\n",
       "      <td>0.001274</td>\n",
       "      <td>[[[127, 127, 127], [124, 124, 124], [115, 115,...</td>\n",
       "    </tr>\n",
       "    <tr>\n",
       "      <th>696</th>\n",
       "      <td>4</td>\n",
       "      <td>5</td>\n",
       "      <td>48</td>\n",
       "      <td>48</td>\n",
       "      <td>1.0</td>\n",
       "      <td>JPG</td>\n",
       "      <td>3</td>\n",
       "      <td>0.001348</td>\n",
       "      <td>[[[217, 217, 217], [218, 218, 218], [217, 217,...</td>\n",
       "    </tr>\n",
       "    <tr>\n",
       "      <th>697</th>\n",
       "      <td>4</td>\n",
       "      <td>5</td>\n",
       "      <td>48</td>\n",
       "      <td>48</td>\n",
       "      <td>1.0</td>\n",
       "      <td>JPG</td>\n",
       "      <td>3</td>\n",
       "      <td>0.001473</td>\n",
       "      <td>[[[165, 165, 165], [193, 193, 193], [197, 197,...</td>\n",
       "    </tr>\n",
       "    <tr>\n",
       "      <th>698</th>\n",
       "      <td>4</td>\n",
       "      <td>5</td>\n",
       "      <td>48</td>\n",
       "      <td>48</td>\n",
       "      <td>1.0</td>\n",
       "      <td>JPG</td>\n",
       "      <td>3</td>\n",
       "      <td>0.001566</td>\n",
       "      <td>[[[67, 67, 67], [55, 55, 55], [58, 58, 58], [5...</td>\n",
       "    </tr>\n",
       "    <tr>\n",
       "      <th>699</th>\n",
       "      <td>4</td>\n",
       "      <td>5</td>\n",
       "      <td>48</td>\n",
       "      <td>48</td>\n",
       "      <td>1.0</td>\n",
       "      <td>JPG</td>\n",
       "      <td>3</td>\n",
       "      <td>0.001466</td>\n",
       "      <td>[[[145, 145, 145], [158, 158, 158], [164, 164,...</td>\n",
       "    </tr>\n",
       "  </tbody>\n",
       "</table>\n",
       "<p>700 rows × 9 columns</p>\n",
       "</div>"
      ],
      "text/plain": [
       "     source_id  emotion_id  height  width  aspect_ratio image_format  \\\n",
       "0            4           0      48     48           1.0          JPG   \n",
       "1            4           0      48     48           1.0          JPG   \n",
       "2            4           0      48     48           1.0          JPG   \n",
       "3            4           0      48     48           1.0          JPG   \n",
       "4            4           0      48     48           1.0          JPG   \n",
       "..         ...         ...     ...    ...           ...          ...   \n",
       "695          4           5      48     48           1.0          JPG   \n",
       "696          4           5      48     48           1.0          JPG   \n",
       "697          4           5      48     48           1.0          JPG   \n",
       "698          4           5      48     48           1.0          JPG   \n",
       "699          4           5      48     48           1.0          JPG   \n",
       "\n",
       "     color_space  file_size_MB  \\\n",
       "0              3      0.001474   \n",
       "1              3      0.001587   \n",
       "2              3      0.001643   \n",
       "3              3      0.001677   \n",
       "4              3      0.001497   \n",
       "..           ...           ...   \n",
       "695            3      0.001274   \n",
       "696            3      0.001348   \n",
       "697            3      0.001473   \n",
       "698            3      0.001566   \n",
       "699            3      0.001466   \n",
       "\n",
       "                                                pixels  \n",
       "0    [[[155, 155, 155], [138, 138, 138], [98, 98, 9...  \n",
       "1    [[[119, 119, 119], [132, 132, 132], [143, 143,...  \n",
       "2    [[[122, 122, 122], [99, 99, 99], [72, 72, 72],...  \n",
       "3    [[[43, 43, 43], [68, 68, 68], [57, 57, 57], [7...  \n",
       "4    [[[2, 2, 2], [2, 2, 2], [6, 6, 6], [5, 5, 5], ...  \n",
       "..                                                 ...  \n",
       "695  [[[127, 127, 127], [124, 124, 124], [115, 115,...  \n",
       "696  [[[217, 217, 217], [218, 218, 218], [217, 217,...  \n",
       "697  [[[165, 165, 165], [193, 193, 193], [197, 197,...  \n",
       "698  [[[67, 67, 67], [55, 55, 55], [58, 58, 58], [5...  \n",
       "699  [[[145, 145, 145], [158, 158, 158], [164, 164,...  \n",
       "\n",
       "[700 rows x 9 columns]"
      ]
     },
     "execution_count": 236,
     "metadata": {},
     "output_type": "execute_result"
    }
   ],
   "source": [
    "FER2013"
   ]
  },
  {
   "cell_type": "markdown",
   "id": "7c8719a1-88cb-4477-a636-7937bc321a31",
   "metadata": {
    "tags": []
   },
   "source": [
    "## Move data frames to SQL"
   ]
  },
  {
   "cell_type": "code",
   "execution_count": 13,
   "id": "46132670-2fe7-45e1-977e-6bcafdffcf17",
   "metadata": {
    "tags": []
   },
   "outputs": [],
   "source": [
    "from sqlalchemy import create_engine \n",
    "import pymysql.cursors\n",
    "import getpass\n",
    "import urllib.parse"
   ]
  },
  {
   "cell_type": "markdown",
   "id": "a5dff587-29e7-4548-90e2-b6e2a15eb137",
   "metadata": {},
   "source": [
    "**Set up connection between python and sql workbench**"
   ]
  },
  {
   "cell_type": "code",
   "execution_count": 14,
   "id": "d2b31825-96b5-434e-be11-8ac266687e95",
   "metadata": {
    "tags": []
   },
   "outputs": [],
   "source": [
    "pw_raw = os.getenv('MSQLpass')\n",
    "pw = urllib.parse.quote_plus(pw_raw)\n",
    "\n",
    "connection_string = 'mysql+pymysql://root:' + pw + '@localhost:3306/'\n",
    "\n",
    "engine = create_engine(connection_string)"
   ]
  },
  {
   "cell_type": "markdown",
   "id": "11197d50-2159-4303-a7a1-e16834e18dad",
   "metadata": {},
   "source": [
    "**Send tables with source and emotions ids**"
   ]
  },
  {
   "cell_type": "code",
   "execution_count": 228,
   "id": "37a92462-b591-4b6e-b66f-953b206e2d27",
   "metadata": {
    "tags": []
   },
   "outputs": [
    {
     "data": {
      "text/plain": [
       "4"
      ]
     },
     "execution_count": 228,
     "metadata": {},
     "output_type": "execute_result"
    }
   ],
   "source": [
    "sources.to_sql('data_sources',engine, 'final_project', if_exists='replace', index=False)"
   ]
  },
  {
   "cell_type": "code",
   "execution_count": 16,
   "id": "cfa78e8a-f672-42b9-b67b-9130f6844826",
   "metadata": {
    "tags": []
   },
   "outputs": [
    {
     "data": {
      "text/plain": [
       "8"
      ]
     },
     "execution_count": 16,
     "metadata": {},
     "output_type": "execute_result"
    }
   ],
   "source": [
    "emotions_ids.to_sql('emotions_ids',engine, 'final_project', if_exists='replace', index=False)"
   ]
  },
  {
   "cell_type": "markdown",
   "id": "b4062c0f-030d-4eb6-a3fb-170e17e03810",
   "metadata": {},
   "source": [
    "**Send data frames with images from different sources**"
   ]
  },
  {
   "cell_type": "code",
   "execution_count": 27,
   "id": "d6e6b178-d29d-47b4-a5c3-da7f6a3d72a7",
   "metadata": {
    "tags": []
   },
   "outputs": [
    {
     "data": {
      "text/plain": [
       "109"
      ]
     },
     "execution_count": 27,
     "metadata": {},
     "output_type": "execute_result"
    }
   ],
   "source": [
    "pixabay.to_sql('images_pixabay',engine, 'final_project', if_exists='replace', index=True)"
   ]
  },
  {
   "cell_type": "code",
   "execution_count": 32,
   "id": "14a5bc18-f392-40a3-b037-4069d71acf02",
   "metadata": {
    "tags": []
   },
   "outputs": [
    {
     "data": {
      "text/plain": [
       "448"
      ]
     },
     "execution_count": 32,
     "metadata": {},
     "output_type": "execute_result"
    }
   ],
   "source": [
    "ddg.to_sql('images_ddg',engine, 'final_project', if_exists='replace', index=True)"
   ]
  },
  {
   "cell_type": "code",
   "execution_count": 37,
   "id": "d0b3f9c5-9022-4bc5-b109-4b9c26191298",
   "metadata": {
    "tags": []
   },
   "outputs": [
    {
     "data": {
      "text/plain": [
       "1400"
      ]
     },
     "execution_count": 37,
     "metadata": {},
     "output_type": "execute_result"
    }
   ],
   "source": [
    "kaggle.to_sql('images_kaggle',engine, 'final_project', if_exists='replace', index=True)"
   ]
  },
  {
   "cell_type": "code",
   "execution_count": 42,
   "id": "ec4e4474-f50f-4469-b3eb-babdf0cd41de",
   "metadata": {
    "tags": []
   },
   "outputs": [
    {
     "data": {
      "text/plain": [
       "1400"
      ]
     },
     "execution_count": 42,
     "metadata": {},
     "output_type": "execute_result"
    }
   ],
   "source": [
    "FER2013.to_sql('images_fer2013',engine, 'final_project', if_exists='replace', index=True)"
   ]
  }
 ],
 "metadata": {
  "kernelspec": {
   "display_name": "Python 3 (ipykernel)",
   "language": "python",
   "name": "python3"
  },
  "language_info": {
   "codemirror_mode": {
    "name": "ipython",
    "version": 3
   },
   "file_extension": ".py",
   "mimetype": "text/x-python",
   "name": "python",
   "nbconvert_exporter": "python",
   "pygments_lexer": "ipython3",
   "version": "3.11.5"
  }
 },
 "nbformat": 4,
 "nbformat_minor": 5
}
