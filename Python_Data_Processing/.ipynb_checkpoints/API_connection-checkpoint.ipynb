{
 "cells": [
  {
   "cell_type": "code",
   "execution_count": 2,
   "id": "80b6ebd0-cf3f-415f-ab91-25c4fc7b5f6d",
   "metadata": {
    "tags": []
   },
   "outputs": [],
   "source": [
    "import pandas as pd\n",
    "import requests\n",
    "\n",
    "import os\n",
    "from dotenv import load_dotenv, find_dotenv\n",
    "from requests.exceptions import SSLError"
   ]
  },
  {
   "cell_type": "markdown",
   "id": "e8fba55f-1444-4057-9316-351e2b679e65",
   "metadata": {
    "tags": []
   },
   "source": [
    "## PixaBay API"
   ]
  },
  {
   "cell_type": "code",
   "execution_count": 6,
   "id": "4288b77c-9064-4fd0-94a7-77b93ba1da95",
   "metadata": {
    "tags": []
   },
   "outputs": [],
   "source": [
    "# API endpoint\n",
    "url = 'https://pixabay.com/api/'\n",
    "\n",
    "api_key = 'xxx'\n",
    "\n",
    "params = {\n",
    "    'key': api_key,\n",
    "    'q': 'sad+people+face+portrait',\n",
    "    'lang' : 'en',\n",
    "    'image_type': 'photo',\n",
    "    'category': 'people',\n",
    "    'safesearch' : 'true',\n",
    "    'per_page': 50  \n",
    "}\n",
    "\n",
    "response = requests.get(url, params=params)"
   ]
  },
  {
   "cell_type": "code",
   "execution_count": 7,
   "id": "a3362a04-f344-446e-a2e8-14e7c3c2eea5",
   "metadata": {
    "tags": []
   },
   "outputs": [],
   "source": [
    "data = response.json()"
   ]
  },
  {
   "cell_type": "code",
   "execution_count": 9,
   "id": "2ba2eed2-31c2-46c3-b185-9a06e90992f2",
   "metadata": {
    "tags": []
   },
   "outputs": [
    {
     "data": {
      "text/plain": [
       "dict_keys(['total', 'totalHits', 'hits'])"
      ]
     },
     "execution_count": 9,
     "metadata": {},
     "output_type": "execute_result"
    }
   ],
   "source": [
    "data.keys()"
   ]
  },
  {
   "cell_type": "code",
   "execution_count": 49,
   "id": "c43df4a0-bb3c-463e-91da-8be9e76aee41",
   "metadata": {
    "scrolled": true,
    "tags": []
   },
   "outputs": [],
   "source": [
    "# for el in data['hits']:\n",
    "#     print(el['largeImageURL'])"
   ]
  },
  {
   "cell_type": "code",
   "execution_count": 40,
   "id": "7b8ca83f-3404-4423-bb3c-aae3c4ade606",
   "metadata": {
    "tags": []
   },
   "outputs": [],
   "source": [
    "# Directory to save downloaded images\n",
    "save_directory = \"pixbay_downloaded_images/sadness/\"\n",
    "\n",
    "# Create the directory if it doesn't exist\n",
    "os.makedirs(save_directory, exist_ok=True)"
   ]
  },
  {
   "cell_type": "code",
   "execution_count": 42,
   "id": "d18e8298-0e3f-48f9-b538-e0425ce44305",
   "metadata": {
    "scrolled": true,
    "tags": []
   },
   "outputs": [
    {
     "name": "stdout",
     "output_type": "stream",
     "text": [
      "Downloaded: pixbay_downloaded_images/sadness/pic_1.jpg\n",
      "Downloaded: pixbay_downloaded_images/sadness/pic_2.jpg\n",
      "Downloaded: pixbay_downloaded_images/sadness/pic_3.jpg\n",
      "Downloaded: pixbay_downloaded_images/sadness/pic_4.jpg\n",
      "Downloaded: pixbay_downloaded_images/sadness/pic_5.jpg\n",
      "Downloaded: pixbay_downloaded_images/sadness/pic_6.jpg\n",
      "Downloaded: pixbay_downloaded_images/sadness/pic_7.jpg\n",
      "Downloaded: pixbay_downloaded_images/sadness/pic_8.jpg\n",
      "Downloaded: pixbay_downloaded_images/sadness/pic_9.jpg\n",
      "Downloaded: pixbay_downloaded_images/sadness/pic_10.jpg\n",
      "Downloaded: pixbay_downloaded_images/sadness/pic_11.jpg\n",
      "Downloaded: pixbay_downloaded_images/sadness/pic_12.jpg\n",
      "Downloaded: pixbay_downloaded_images/sadness/pic_13.jpg\n",
      "Downloaded: pixbay_downloaded_images/sadness/pic_14.jpg\n",
      "Downloaded: pixbay_downloaded_images/sadness/pic_15.jpg\n",
      "Downloaded: pixbay_downloaded_images/sadness/pic_16.jpg\n",
      "Downloaded: pixbay_downloaded_images/sadness/pic_17.jpg\n",
      "Downloaded: pixbay_downloaded_images/sadness/pic_18.jpg\n",
      "Downloaded: pixbay_downloaded_images/sadness/pic_19.jpg\n",
      "Downloaded: pixbay_downloaded_images/sadness/pic_20.jpg\n",
      "Downloaded: pixbay_downloaded_images/sadness/pic_21.jpg\n",
      "Downloaded: pixbay_downloaded_images/sadness/pic_22.jpg\n",
      "Downloaded: pixbay_downloaded_images/sadness/pic_23.jpg\n",
      "Downloaded: pixbay_downloaded_images/sadness/pic_24.jpg\n",
      "Downloaded: pixbay_downloaded_images/sadness/pic_25.jpg\n",
      "Downloaded: pixbay_downloaded_images/sadness/pic_26.jpg\n",
      "Downloaded: pixbay_downloaded_images/sadness/pic_27.jpg\n",
      "Downloaded: pixbay_downloaded_images/sadness/pic_28.jpg\n",
      "Downloaded: pixbay_downloaded_images/sadness/pic_29.jpg\n",
      "Downloaded: pixbay_downloaded_images/sadness/pic_30.jpg\n",
      "Downloaded: pixbay_downloaded_images/sadness/pic_31.jpg\n",
      "Downloaded: pixbay_downloaded_images/sadness/pic_32.jpg\n",
      "Downloaded: pixbay_downloaded_images/sadness/pic_33.jpg\n",
      "Downloaded: pixbay_downloaded_images/sadness/pic_34.jpg\n",
      "Downloaded: pixbay_downloaded_images/sadness/pic_35.jpg\n",
      "Downloaded: pixbay_downloaded_images/sadness/pic_36.jpg\n",
      "Downloaded: pixbay_downloaded_images/sadness/pic_37.jpg\n",
      "Downloaded: pixbay_downloaded_images/sadness/pic_38.jpg\n",
      "Downloaded: pixbay_downloaded_images/sadness/pic_39.jpg\n",
      "Downloaded: pixbay_downloaded_images/sadness/pic_40.jpg\n",
      "Downloaded: pixbay_downloaded_images/sadness/pic_41.jpg\n",
      "Downloaded: pixbay_downloaded_images/sadness/pic_42.jpg\n",
      "Downloaded: pixbay_downloaded_images/sadness/pic_43.jpg\n",
      "Downloaded: pixbay_downloaded_images/sadness/pic_44.jpg\n",
      "Downloaded: pixbay_downloaded_images/sadness/pic_45.jpg\n",
      "Downloaded: pixbay_downloaded_images/sadness/pic_46.jpg\n",
      "Downloaded: pixbay_downloaded_images/sadness/pic_47.jpg\n",
      "Downloaded: pixbay_downloaded_images/sadness/pic_48.jpg\n",
      "Downloaded: pixbay_downloaded_images/sadness/pic_49.jpg\n",
      "Downloaded: pixbay_downloaded_images/sadness/pic_50.jpg\n"
     ]
    }
   ],
   "source": [
    "for i, image in enumerate(data.get('hits'), start=1):\n",
    "    \n",
    "    img_url = image['largeImageURL']\n",
    "    \n",
    "    img_name = os.path.join(save_directory, f\"pic_{i}.jpg\")\n",
    "    \n",
    "    img_response = requests.get(img_url)\n",
    "    \n",
    "    if img_response.status_code == 200:\n",
    "        with open(img_name, 'wb') as f:\n",
    "            f.write(img_response.content)\n",
    "        print(f\"Downloaded: {img_name}\")\n",
    "        \n",
    "    else:\n",
    "        print(f\"Failed to download: {img_url} (Status code: {img_response.status_code})\")\n"
   ]
  },
  {
   "cell_type": "code",
   "execution_count": 36,
   "id": "0cec78f4-fdc9-42ce-8545-a855f0e75a5d",
   "metadata": {
    "tags": []
   },
   "outputs": [
    {
     "data": {
      "text/plain": [
       "200"
      ]
     },
     "execution_count": 36,
     "metadata": {},
     "output_type": "execute_result"
    }
   ],
   "source": [
    "im.status_code"
   ]
  },
  {
   "cell_type": "code",
   "execution_count": 81,
   "id": "27896f6a-c424-4777-afa8-794b82d7efd5",
   "metadata": {
    "tags": []
   },
   "outputs": [
    {
     "name": "stdout",
     "output_type": "stream",
     "text": [
      "Downloaded: pixbay_downloaded_images/disgust/disgust_pic_1.jpg\n",
      "Downloaded: pixbay_downloaded_images/disgust/disgust_pic_2.jpg\n",
      "Downloaded: pixbay_downloaded_images/disgust/disgust_pic_3.jpg\n",
      "Downloaded: pixbay_downloaded_images/disgust/disgust_pic_4.jpg\n",
      "Downloaded: pixbay_downloaded_images/disgust/disgust_pic_5.jpg\n",
      "Downloaded: pixbay_downloaded_images/disgust/disgust_pic_6.jpg\n",
      "Downloaded: pixbay_downloaded_images/disgust/disgust_pic_7.jpg\n"
     ]
    }
   ],
   "source": [
    "# API endpoint\n",
    "url = 'https://pixabay.com/api/'          \n",
    "            \n",
    "emotions = ['disgust'] # ['happy', 'neutral', 'surprised', 'disgust', 'scared']\n",
    "\n",
    "for emotion in emotions:\n",
    "    params = {\n",
    "        'key': api_key,\n",
    "        'q': emotion +'+face',\n",
    "        'lang': 'en',\n",
    "        'image_type': 'photo',\n",
    "        'category': 'people',\n",
    "        'safesearch': 'true',\n",
    "        'per_page': 60\n",
    "    }\n",
    "\n",
    "    response = requests.get(url, params=params)\n",
    "\n",
    "    data_emotion = response.json()\n",
    "\n",
    "    save_directory = f\"pixbay_downloaded_images/{emotion}/\"\n",
    "\n",
    "    os.makedirs(save_directory, exist_ok=True)\n",
    "\n",
    "    for i, image in enumerate(data_emotion.get('hits'), start=1):\n",
    "        img_url = image['largeImageURL']\n",
    "        img_name = os.path.join(save_directory, f\"{emotion}_pic_{i}.jpg\")\n",
    "\n",
    "        img_response = requests.get(img_url)\n",
    "\n",
    "        if img_response.status_code == 200:\n",
    "            with open(img_name, 'wb') as f:\n",
    "                f.write(img_response.content)\n",
    "            print(f\"Downloaded: {img_name}\")\n",
    "        else:\n",
    "            print(f\"Failed to download: {img_url} (Status code: {img_response.status_code})\")"
   ]
  },
  {
   "cell_type": "code",
   "execution_count": 80,
   "id": "7c82a967-6da3-4ef2-8519-79d18add4015",
   "metadata": {
    "tags": []
   },
   "outputs": [
    {
     "data": {
      "text/plain": [
       "{'total': 0, 'totalHits': 0, 'hits': []}"
      ]
     },
     "execution_count": 80,
     "metadata": {},
     "output_type": "execute_result"
    }
   ],
   "source": [
    "data_emotion"
   ]
  },
  {
   "cell_type": "markdown",
   "id": "359fe1c0-2905-4cdd-8b14-738967d48699",
   "metadata": {
    "tags": []
   },
   "source": [
    "## DuckDuckGo API"
   ]
  },
  {
   "cell_type": "code",
   "execution_count": 82,
   "id": "75277173-920e-437a-9855-882f237bac2e",
   "metadata": {
    "tags": []
   },
   "outputs": [
    {
     "data": {
      "text/plain": [
       "<Response [200]>"
      ]
     },
     "execution_count": 82,
     "metadata": {},
     "output_type": "execute_result"
    }
   ],
   "source": [
    "url_2 = \"https://duckduckgo10.p.rapidapi.com/search/images\"\n",
    "\n",
    "api_key_ddg = \"xxx\"\n",
    "\n",
    "querystring = {\n",
    "    \"term\" : \"happy human face\",\n",
    "    \"region\" : \"us-en\",\n",
    "    \"safeSearch\" : \"strict\"\n",
    "}\n",
    "\n",
    "headers = {\n",
    "    \"X-RapidAPI-Key\": api_key_ddg,\n",
    "    \"X-RapidAPI-Host\": \"duckduckgo10.p.rapidapi.com\"\n",
    "}\n",
    "\n",
    "response = requests.get(url_2, headers=headers, params=querystring)\n",
    "\n",
    "response\n",
    "#print(response.json())"
   ]
  },
  {
   "cell_type": "code",
   "execution_count": 84,
   "id": "9b52badc-c95e-470a-8b7e-07fb6b47dc1c",
   "metadata": {
    "tags": []
   },
   "outputs": [],
   "source": [
    "data_ddg = response.json()"
   ]
  },
  {
   "cell_type": "code",
   "execution_count": 85,
   "id": "6617fcee-6dd7-4089-b447-248222b65684",
   "metadata": {
    "tags": []
   },
   "outputs": [
    {
     "data": {
      "text/plain": [
       "dict_keys(['status', 'message', 'data'])"
      ]
     },
     "execution_count": 85,
     "metadata": {},
     "output_type": "execute_result"
    }
   ],
   "source": [
    "data_ddg.keys()"
   ]
  },
  {
   "cell_type": "code",
   "execution_count": 90,
   "id": "91e5723c-065e-4195-9504-d4c45f05591d",
   "metadata": {
    "scrolled": true,
    "tags": []
   },
   "outputs": [
    {
     "name": "stdout",
     "output_type": "stream",
     "text": [
      "Downloaded: duckduckgo_downloaded_images/happy/ddg_happy_pic_1.jpg\n",
      "Downloaded: duckduckgo_downloaded_images/happy/ddg_happy_pic_2.jpg\n",
      "Downloaded: duckduckgo_downloaded_images/happy/ddg_happy_pic_3.jpg\n",
      "Downloaded: duckduckgo_downloaded_images/happy/ddg_happy_pic_4.jpg\n",
      "Downloaded: duckduckgo_downloaded_images/happy/ddg_happy_pic_5.jpg\n",
      "Downloaded: duckduckgo_downloaded_images/happy/ddg_happy_pic_6.jpg\n",
      "Downloaded: duckduckgo_downloaded_images/happy/ddg_happy_pic_7.jpg\n",
      "Downloaded: duckduckgo_downloaded_images/happy/ddg_happy_pic_8.jpg\n",
      "Downloaded: duckduckgo_downloaded_images/happy/ddg_happy_pic_9.jpg\n",
      "Downloaded: duckduckgo_downloaded_images/happy/ddg_happy_pic_10.jpg\n",
      "Downloaded: duckduckgo_downloaded_images/happy/ddg_happy_pic_11.jpg\n",
      "Downloaded: duckduckgo_downloaded_images/happy/ddg_happy_pic_12.jpg\n",
      "Downloaded: duckduckgo_downloaded_images/happy/ddg_happy_pic_13.jpg\n",
      "Downloaded: duckduckgo_downloaded_images/happy/ddg_happy_pic_14.jpg\n",
      "Downloaded: duckduckgo_downloaded_images/happy/ddg_happy_pic_15.jpg\n",
      "Downloaded: duckduckgo_downloaded_images/happy/ddg_happy_pic_16.jpg\n",
      "Failed to download: https://www.theladders.com/wp-content/uploads/Happy_People_Happy_Man.jpg (Status code: 403)\n",
      "Downloaded: duckduckgo_downloaded_images/happy/ddg_happy_pic_18.jpg\n",
      "Downloaded: duckduckgo_downloaded_images/happy/ddg_happy_pic_19.jpg\n",
      "Downloaded: duckduckgo_downloaded_images/happy/ddg_happy_pic_20.jpg\n",
      "Downloaded: duckduckgo_downloaded_images/happy/ddg_happy_pic_21.jpg\n",
      "Downloaded: duckduckgo_downloaded_images/happy/ddg_happy_pic_22.jpg\n",
      "Downloaded: duckduckgo_downloaded_images/happy/ddg_happy_pic_23.jpg\n",
      "Downloaded: duckduckgo_downloaded_images/happy/ddg_happy_pic_24.jpg\n",
      "Downloaded: duckduckgo_downloaded_images/happy/ddg_happy_pic_25.jpg\n",
      "Downloaded: duckduckgo_downloaded_images/happy/ddg_happy_pic_26.jpg\n",
      "Downloaded: duckduckgo_downloaded_images/happy/ddg_happy_pic_27.jpg\n",
      "Failed to download: https://www.plowzandmowz.com/wp-content/uploads/2014/05/Smiling-Man.jpg (Status code: 403)\n",
      "Downloaded: duckduckgo_downloaded_images/happy/ddg_happy_pic_29.jpg\n",
      "Downloaded: duckduckgo_downloaded_images/happy/ddg_happy_pic_30.jpg\n",
      "Downloaded: duckduckgo_downloaded_images/happy/ddg_happy_pic_31.jpg\n",
      "Downloaded: duckduckgo_downloaded_images/happy/ddg_happy_pic_32.jpg\n",
      "Downloaded: duckduckgo_downloaded_images/happy/ddg_happy_pic_33.jpg\n",
      "Downloaded: duckduckgo_downloaded_images/happy/ddg_happy_pic_34.jpg\n",
      "Downloaded: duckduckgo_downloaded_images/happy/ddg_happy_pic_35.jpg\n",
      "Downloaded: duckduckgo_downloaded_images/happy/ddg_happy_pic_36.jpg\n",
      "Downloaded: duckduckgo_downloaded_images/happy/ddg_happy_pic_37.jpg\n",
      "Downloaded: duckduckgo_downloaded_images/happy/ddg_happy_pic_38.jpg\n",
      "Downloaded: duckduckgo_downloaded_images/happy/ddg_happy_pic_39.jpg\n",
      "Downloaded: duckduckgo_downloaded_images/happy/ddg_happy_pic_40.jpg\n",
      "Downloaded: duckduckgo_downloaded_images/happy/ddg_happy_pic_41.jpg\n",
      "Downloaded: duckduckgo_downloaded_images/happy/ddg_happy_pic_42.jpg\n",
      "Downloaded: duckduckgo_downloaded_images/happy/ddg_happy_pic_43.jpg\n",
      "Downloaded: duckduckgo_downloaded_images/happy/ddg_happy_pic_44.jpg\n",
      "Downloaded: duckduckgo_downloaded_images/happy/ddg_happy_pic_45.jpg\n",
      "Downloaded: duckduckgo_downloaded_images/happy/ddg_happy_pic_46.jpg\n",
      "Downloaded: duckduckgo_downloaded_images/happy/ddg_happy_pic_47.jpg\n",
      "Downloaded: duckduckgo_downloaded_images/happy/ddg_happy_pic_48.jpg\n",
      "Downloaded: duckduckgo_downloaded_images/happy/ddg_happy_pic_49.jpg\n",
      "Downloaded: duckduckgo_downloaded_images/happy/ddg_happy_pic_50.jpg\n",
      "Downloaded: duckduckgo_downloaded_images/happy/ddg_happy_pic_51.jpg\n",
      "Downloaded: duckduckgo_downloaded_images/happy/ddg_happy_pic_52.jpg\n",
      "Downloaded: duckduckgo_downloaded_images/happy/ddg_happy_pic_53.jpg\n",
      "Downloaded: duckduckgo_downloaded_images/happy/ddg_happy_pic_54.jpg\n",
      "Downloaded: duckduckgo_downloaded_images/happy/ddg_happy_pic_55.jpg\n",
      "Downloaded: duckduckgo_downloaded_images/happy/ddg_happy_pic_56.jpg\n",
      "Downloaded: duckduckgo_downloaded_images/happy/ddg_happy_pic_57.jpg\n",
      "Downloaded: duckduckgo_downloaded_images/happy/ddg_happy_pic_58.jpg\n",
      "Downloaded: duckduckgo_downloaded_images/happy/ddg_happy_pic_59.jpg\n",
      "Downloaded: duckduckgo_downloaded_images/happy/ddg_happy_pic_60.jpg\n",
      "Downloaded: duckduckgo_downloaded_images/happy/ddg_happy_pic_61.jpg\n",
      "Downloaded: duckduckgo_downloaded_images/happy/ddg_happy_pic_62.jpg\n",
      "Downloaded: duckduckgo_downloaded_images/happy/ddg_happy_pic_63.jpg\n",
      "Downloaded: duckduckgo_downloaded_images/happy/ddg_happy_pic_64.jpg\n",
      "Downloaded: duckduckgo_downloaded_images/happy/ddg_happy_pic_65.jpg\n",
      "Downloaded: duckduckgo_downloaded_images/happy/ddg_happy_pic_66.jpg\n",
      "Downloaded: duckduckgo_downloaded_images/happy/ddg_happy_pic_67.jpg\n",
      "Downloaded: duckduckgo_downloaded_images/happy/ddg_happy_pic_68.jpg\n",
      "Downloaded: duckduckgo_downloaded_images/happy/ddg_happy_pic_69.jpg\n",
      "Downloaded: duckduckgo_downloaded_images/happy/ddg_happy_pic_70.jpg\n",
      "Downloaded: duckduckgo_downloaded_images/happy/ddg_happy_pic_71.jpg\n",
      "Downloaded: duckduckgo_downloaded_images/happy/ddg_happy_pic_72.jpg\n",
      "Downloaded: duckduckgo_downloaded_images/happy/ddg_happy_pic_73.jpg\n",
      "Downloaded: duckduckgo_downloaded_images/happy/ddg_happy_pic_74.jpg\n",
      "Downloaded: duckduckgo_downloaded_images/happy/ddg_happy_pic_75.jpg\n",
      "Downloaded: duckduckgo_downloaded_images/happy/ddg_happy_pic_76.jpg\n",
      "Downloaded: duckduckgo_downloaded_images/happy/ddg_happy_pic_77.jpg\n",
      "Downloaded: duckduckgo_downloaded_images/happy/ddg_happy_pic_78.jpg\n",
      "Downloaded: duckduckgo_downloaded_images/happy/ddg_happy_pic_79.jpg\n",
      "Downloaded: duckduckgo_downloaded_images/happy/ddg_happy_pic_80.jpg\n",
      "Downloaded: duckduckgo_downloaded_images/happy/ddg_happy_pic_81.jpg\n",
      "Downloaded: duckduckgo_downloaded_images/happy/ddg_happy_pic_82.jpg\n",
      "Downloaded: duckduckgo_downloaded_images/happy/ddg_happy_pic_83.jpg\n",
      "Downloaded: duckduckgo_downloaded_images/happy/ddg_happy_pic_84.jpg\n",
      "Downloaded: duckduckgo_downloaded_images/happy/ddg_happy_pic_85.jpg\n",
      "Downloaded: duckduckgo_downloaded_images/happy/ddg_happy_pic_86.jpg\n",
      "Downloaded: duckduckgo_downloaded_images/happy/ddg_happy_pic_87.jpg\n",
      "Failed to download: https://cdn.pixabay.com/photo/2015/03/30/19/46/person-700099_960_720.jpg (Status code: 403)\n",
      "Downloaded: duckduckgo_downloaded_images/happy/ddg_happy_pic_89.jpg\n",
      "Downloaded: duckduckgo_downloaded_images/happy/ddg_happy_pic_90.jpg\n",
      "Downloaded: duckduckgo_downloaded_images/happy/ddg_happy_pic_91.jpg\n",
      "Downloaded: duckduckgo_downloaded_images/happy/ddg_happy_pic_92.jpg\n",
      "Downloaded: duckduckgo_downloaded_images/happy/ddg_happy_pic_93.jpg\n",
      "Downloaded: duckduckgo_downloaded_images/happy/ddg_happy_pic_94.jpg\n",
      "Downloaded: duckduckgo_downloaded_images/happy/ddg_happy_pic_95.jpg\n",
      "Downloaded: duckduckgo_downloaded_images/happy/ddg_happy_pic_96.jpg\n",
      "Downloaded: duckduckgo_downloaded_images/happy/ddg_happy_pic_97.jpg\n",
      "Downloaded: duckduckgo_downloaded_images/happy/ddg_happy_pic_98.jpg\n",
      "Downloaded: duckduckgo_downloaded_images/happy/ddg_happy_pic_99.jpg\n",
      "Downloaded: duckduckgo_downloaded_images/happy/ddg_happy_pic_100.jpg\n"
     ]
    }
   ],
   "source": [
    "save_directory = f\"duckduckgo_downloaded_images/happy/\"\n",
    "\n",
    "os.makedirs(save_directory, exist_ok=True)\n",
    "\n",
    "for i, image in enumerate(data_ddg.get('data'), start=1):   \n",
    "    \n",
    "    img_url = image['image']\n",
    "    \n",
    "    img_name = os.path.join(save_directory, f\"ddg_happy_pic_{i}.jpg\")\n",
    "\n",
    "    img_response = requests.get(img_url)\n",
    "\n",
    "    if img_response.status_code == 200:\n",
    "        with open(img_name, 'wb') as f:\n",
    "            f.write(img_response.content)\n",
    "        print(f\"Downloaded: {img_name}\")\n",
    "    else:\n",
    "        print(f\"Failed to download: {img_url} (Status code: {img_response.status_code})\")"
   ]
  },
  {
   "cell_type": "code",
   "execution_count": 107,
   "id": "e8161154-3555-44db-b074-52f5c1599ca2",
   "metadata": {
    "scrolled": true,
    "tags": []
   },
   "outputs": [
    {
     "name": "stdout",
     "output_type": "stream",
     "text": [
      "Downloaded: duckduckgo_downloaded_images/neutral/ddg_neutral_pic_1.jpg\n",
      "Downloaded: duckduckgo_downloaded_images/neutral/ddg_neutral_pic_2.jpg\n",
      "Downloaded: duckduckgo_downloaded_images/neutral/ddg_neutral_pic_3.jpg\n",
      "Downloaded: duckduckgo_downloaded_images/neutral/ddg_neutral_pic_4.jpg\n",
      "Downloaded: duckduckgo_downloaded_images/neutral/ddg_neutral_pic_5.jpg\n",
      "Downloaded: duckduckgo_downloaded_images/neutral/ddg_neutral_pic_6.jpg\n",
      "Downloaded: duckduckgo_downloaded_images/neutral/ddg_neutral_pic_7.jpg\n",
      "Downloaded: duckduckgo_downloaded_images/neutral/ddg_neutral_pic_8.jpg\n",
      "Downloaded: duckduckgo_downloaded_images/neutral/ddg_neutral_pic_9.jpg\n",
      "Downloaded: duckduckgo_downloaded_images/neutral/ddg_neutral_pic_10.jpg\n",
      "Downloaded: duckduckgo_downloaded_images/neutral/ddg_neutral_pic_11.jpg\n",
      "Downloaded: duckduckgo_downloaded_images/neutral/ddg_neutral_pic_12.jpg\n",
      "Downloaded: duckduckgo_downloaded_images/neutral/ddg_neutral_pic_13.jpg\n",
      "Downloaded: duckduckgo_downloaded_images/neutral/ddg_neutral_pic_14.jpg\n",
      "Downloaded: duckduckgo_downloaded_images/neutral/ddg_neutral_pic_15.jpg\n",
      "Downloaded: duckduckgo_downloaded_images/neutral/ddg_neutral_pic_16.jpg\n",
      "Downloaded: duckduckgo_downloaded_images/neutral/ddg_neutral_pic_17.jpg\n",
      "Downloaded: duckduckgo_downloaded_images/neutral/ddg_neutral_pic_18.jpg\n",
      "Downloaded: duckduckgo_downloaded_images/neutral/ddg_neutral_pic_19.jpg\n",
      "Downloaded: duckduckgo_downloaded_images/neutral/ddg_neutral_pic_20.jpg\n",
      "Downloaded: duckduckgo_downloaded_images/neutral/ddg_neutral_pic_21.jpg\n",
      "Failed to download: https://www.paulekman.com/wp-content/uploads/2013/05/Neutral1.jpg (Status code: 403)\n",
      "Downloaded: duckduckgo_downloaded_images/neutral/ddg_neutral_pic_23.jpg\n",
      "Failed to download: https://www.researchgate.net/profile/Umair-Akram-4/publication/318571910/figure/fig1/AS:522208483446784@1501515612111/a-Example-of-neutral-face-b-Example-of-corresponding-tired-face-based-on.png (Status code: 403)\n",
      "Downloaded: duckduckgo_downloaded_images/neutral/ddg_neutral_pic_25.jpg\n",
      "Downloaded: duckduckgo_downloaded_images/neutral/ddg_neutral_pic_26.jpg\n",
      "Downloaded: duckduckgo_downloaded_images/neutral/ddg_neutral_pic_27.jpg\n",
      "Downloaded: duckduckgo_downloaded_images/neutral/ddg_neutral_pic_28.jpg\n",
      "Downloaded: duckduckgo_downloaded_images/neutral/ddg_neutral_pic_29.jpg\n",
      "Downloaded: duckduckgo_downloaded_images/neutral/ddg_neutral_pic_30.jpg\n",
      "Downloaded: duckduckgo_downloaded_images/neutral/ddg_neutral_pic_31.jpg\n",
      "Downloaded: duckduckgo_downloaded_images/neutral/ddg_neutral_pic_32.jpg\n",
      "Downloaded: duckduckgo_downloaded_images/neutral/ddg_neutral_pic_33.jpg\n",
      "Downloaded: duckduckgo_downloaded_images/neutral/ddg_neutral_pic_34.jpg\n",
      "Downloaded: duckduckgo_downloaded_images/neutral/ddg_neutral_pic_35.jpg\n",
      "Downloaded: duckduckgo_downloaded_images/neutral/ddg_neutral_pic_36.jpg\n",
      "Downloaded: duckduckgo_downloaded_images/neutral/ddg_neutral_pic_37.jpg\n",
      "Downloaded: duckduckgo_downloaded_images/neutral/ddg_neutral_pic_38.jpg\n",
      "Downloaded: duckduckgo_downloaded_images/neutral/ddg_neutral_pic_39.jpg\n",
      "Downloaded: duckduckgo_downloaded_images/neutral/ddg_neutral_pic_40.jpg\n",
      "Downloaded: duckduckgo_downloaded_images/neutral/ddg_neutral_pic_41.jpg\n",
      "Downloaded: duckduckgo_downloaded_images/neutral/ddg_neutral_pic_42.jpg\n",
      "Downloaded: duckduckgo_downloaded_images/neutral/ddg_neutral_pic_43.jpg\n",
      "Downloaded: duckduckgo_downloaded_images/neutral/ddg_neutral_pic_44.jpg\n",
      "Downloaded: duckduckgo_downloaded_images/neutral/ddg_neutral_pic_45.jpg\n",
      "Downloaded: duckduckgo_downloaded_images/neutral/ddg_neutral_pic_46.jpg\n",
      "Downloaded: duckduckgo_downloaded_images/neutral/ddg_neutral_pic_47.jpg\n",
      "Failed to download: https://www.researchgate.net/profile/Michelle-Liou/publication/275466571/figure/fig1/AS:294564410740750@1447241036555/Examples-of-A-a-female-neutral-face-and-B-a-male-neutral-face-used-in-the-photograph.png (Status code: 403)\n",
      "Downloaded: duckduckgo_downloaded_images/neutral/ddg_neutral_pic_49.jpg\n",
      "Downloaded: duckduckgo_downloaded_images/neutral/ddg_neutral_pic_50.jpg\n",
      "Failed to download: https://www.researchgate.net/profile/Amy-Dawel/publication/268447592/figure/fig4/AS:667098053373962@1536059978688/Our-stimuli-for-fearful-happy-and-neutral-facial-expressions-from-left-to-right_Q320.jpg (Status code: 403)\n",
      "Downloaded: duckduckgo_downloaded_images/neutral/ddg_neutral_pic_52.jpg\n",
      "Downloaded: duckduckgo_downloaded_images/neutral/ddg_neutral_pic_53.jpg\n",
      "Downloaded: duckduckgo_downloaded_images/neutral/ddg_neutral_pic_54.jpg\n",
      "Downloaded: duckduckgo_downloaded_images/neutral/ddg_neutral_pic_55.jpg\n",
      "Downloaded: duckduckgo_downloaded_images/neutral/ddg_neutral_pic_56.jpg\n",
      "Downloaded: duckduckgo_downloaded_images/neutral/ddg_neutral_pic_57.jpg\n",
      "Downloaded: duckduckgo_downloaded_images/neutral/ddg_neutral_pic_58.jpg\n",
      "Downloaded: duckduckgo_downloaded_images/neutral/ddg_neutral_pic_59.jpg\n",
      "Downloaded: duckduckgo_downloaded_images/neutral/ddg_neutral_pic_60.jpg\n",
      "Downloaded: duckduckgo_downloaded_images/neutral/ddg_neutral_pic_61.jpg\n",
      "Downloaded: duckduckgo_downloaded_images/neutral/ddg_neutral_pic_62.jpg\n",
      "Downloaded: duckduckgo_downloaded_images/neutral/ddg_neutral_pic_63.jpg\n",
      "Downloaded: duckduckgo_downloaded_images/neutral/ddg_neutral_pic_64.jpg\n",
      "Downloaded: duckduckgo_downloaded_images/neutral/ddg_neutral_pic_65.jpg\n",
      "Downloaded: duckduckgo_downloaded_images/neutral/ddg_neutral_pic_66.jpg\n",
      "Downloaded: duckduckgo_downloaded_images/neutral/ddg_neutral_pic_67.jpg\n",
      "Downloaded: duckduckgo_downloaded_images/neutral/ddg_neutral_pic_68.jpg\n",
      "Failed to download: https://www.researchgate.net/profile/Ottmar-Lipp/publication/43525369/figure/fig1/AS:394376070090753@1471037990294/Neutral-angry-happy-and-sad-faces-used-in-Experiments-1-upper-row-and-2-rows-2-and.png (Status code: 403)\n",
      "Downloaded: duckduckgo_downloaded_images/neutral/ddg_neutral_pic_70.jpg\n",
      "Downloaded: duckduckgo_downloaded_images/neutral/ddg_neutral_pic_71.jpg\n",
      "Failed to download: https://www.researchgate.net/publication/328148140/figure/fig1/AS:961899533459456@1606346128432/An-example-of-a-neutral-face-and-a-face-expressing-happiness-and-anger-from-left-to.jpg (Status code: 403)\n",
      "Downloaded: duckduckgo_downloaded_images/neutral/ddg_neutral_pic_73.jpg\n",
      "Downloaded: duckduckgo_downloaded_images/neutral/ddg_neutral_pic_74.jpg\n",
      "Downloaded: duckduckgo_downloaded_images/neutral/ddg_neutral_pic_75.jpg\n",
      "Downloaded: duckduckgo_downloaded_images/neutral/ddg_neutral_pic_76.jpg\n",
      "Downloaded: duckduckgo_downloaded_images/neutral/ddg_neutral_pic_77.jpg\n",
      "Downloaded: duckduckgo_downloaded_images/neutral/ddg_neutral_pic_78.jpg\n",
      "Downloaded: duckduckgo_downloaded_images/neutral/ddg_neutral_pic_79.jpg\n",
      "Downloaded: duckduckgo_downloaded_images/neutral/ddg_neutral_pic_80.jpg\n",
      "Downloaded: duckduckgo_downloaded_images/neutral/ddg_neutral_pic_81.jpg\n",
      "Downloaded: duckduckgo_downloaded_images/neutral/ddg_neutral_pic_82.jpg\n",
      "Failed to download: https://www.pngkit.com/png/detail/127-1276330_schematic-stimuli-of-happy-neutral-and-angry-faces.png (Status code: 403)\n",
      "Failed to download: https://www.huntingtonsociety.ca/wp-content/uploads/2020/04/Gender-Neutral-Headshot.jpg (Status code: 406)\n",
      "Downloaded: duckduckgo_downloaded_images/neutral/ddg_neutral_pic_85.jpg\n",
      "Downloaded: duckduckgo_downloaded_images/neutral/ddg_neutral_pic_86.jpg\n",
      "Downloaded: duckduckgo_downloaded_images/neutral/ddg_neutral_pic_87.jpg\n",
      "Downloaded: duckduckgo_downloaded_images/neutral/ddg_neutral_pic_88.jpg\n",
      "Downloaded: duckduckgo_downloaded_images/neutral/ddg_neutral_pic_89.jpg\n",
      "Downloaded: duckduckgo_downloaded_images/neutral/ddg_neutral_pic_90.jpg\n",
      "Downloaded: duckduckgo_downloaded_images/neutral/ddg_neutral_pic_91.jpg\n",
      "Downloaded: duckduckgo_downloaded_images/neutral/ddg_neutral_pic_92.jpg\n",
      "Downloaded: duckduckgo_downloaded_images/neutral/ddg_neutral_pic_93.jpg\n",
      "Downloaded: duckduckgo_downloaded_images/neutral/ddg_neutral_pic_94.jpg\n",
      "Downloaded: duckduckgo_downloaded_images/neutral/ddg_neutral_pic_95.jpg\n",
      "Downloaded: duckduckgo_downloaded_images/neutral/ddg_neutral_pic_96.jpg\n",
      "Downloaded: duckduckgo_downloaded_images/neutral/ddg_neutral_pic_97.jpg\n",
      "Downloaded: duckduckgo_downloaded_images/neutral/ddg_neutral_pic_98.jpg\n",
      "Downloaded: duckduckgo_downloaded_images/neutral/ddg_neutral_pic_99.jpg\n",
      "Downloaded: duckduckgo_downloaded_images/neutral/ddg_neutral_pic_100.jpg\n"
     ]
    }
   ],
   "source": [
    "emotions = ['neutral'] # ['neutral', 'surprised', 'sad', 'disgusted', 'happy', 'scared', 'angry']\n",
    "\n",
    "for emotion in emotions:\n",
    "    \n",
    "    querystring = {\n",
    "        \"term\" : f\"{emotion} human face\",\n",
    "        \"region\" : \"us-en\",\n",
    "        \"safeSearch\" : \"strict\"\n",
    "    }\n",
    "\n",
    "    headers = {\n",
    "        \"X-RapidAPI-Key\": api_key_ddg,\n",
    "        \"X-RapidAPI-Host\": \"duckduckgo10.p.rapidapi.com\"\n",
    "    }\n",
    "\n",
    "    response = requests.get(url_2, headers=headers, params=querystring)\n",
    "    \n",
    "    data_ddg = response.json()\n",
    "\n",
    "    save_directory = f\"duckduckgo_downloaded_images/{emotion}/\"\n",
    "\n",
    "    os.makedirs(save_directory, exist_ok=True)\n",
    "\n",
    "    for i, image in enumerate(data_ddg.get('data'), start=1):   \n",
    "\n",
    "        img_url = image['image']\n",
    "\n",
    "        img_name = os.path.join(save_directory, f\"ddg_{emotion}_pic_{i}.jpg\")\n",
    "\n",
    "        #img_response = requests.get(img_url)       \n",
    "        \n",
    "        try:\n",
    "            img_response = requests.get(img_url)\n",
    "            \n",
    "        except SSLError as e:\n",
    "            print(f\"SSL Error for {img_url}: {e}\")\n",
    "            continue  # Skip this image and continue to the next one\n",
    "        except Exception as e:\n",
    "            print(f\"Some other error: {e}\")\n",
    "            continue\n",
    "            \n",
    "        if img_response.status_code == 200:\n",
    "            with open(img_name, 'wb') as f:\n",
    "                f.write(img_response.content)\n",
    "            print(f\"Downloaded: {img_name}\")\n",
    "        else:\n",
    "            print(f\"Failed to download: {img_url} (Status code: {img_response.status_code})\")\n"
   ]
  }
 ],
 "metadata": {
  "kernelspec": {
   "display_name": "Python 3 (ipykernel)",
   "language": "python",
   "name": "python3"
  },
  "language_info": {
   "codemirror_mode": {
    "name": "ipython",
    "version": 3
   },
   "file_extension": ".py",
   "mimetype": "text/x-python",
   "name": "python",
   "nbconvert_exporter": "python",
   "pygments_lexer": "ipython3",
   "version": "3.11.5"
  }
 },
 "nbformat": 4,
 "nbformat_minor": 5
}
