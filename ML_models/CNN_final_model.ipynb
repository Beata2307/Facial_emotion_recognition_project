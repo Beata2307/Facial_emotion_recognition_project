{
 "cells": [
  {
   "cell_type": "code",
   "execution_count": 3,
   "metadata": {
    "executionInfo": {
     "elapsed": 380,
     "status": "ok",
     "timestamp": 1708623350462,
     "user": {
      "displayName": "Beata Taudul",
      "userId": "05044565310731015655"
     },
     "user_tz": -60
    },
    "id": "sXzK-6novJTS"
   },
   "outputs": [],
   "source": [
    "from google.colab import drive"
   ]
  },
  {
   "cell_type": "code",
   "execution_count": 4,
   "metadata": {
    "colab": {
     "base_uri": "https://localhost:8080/"
    },
    "executionInfo": {
     "elapsed": 23144,
     "status": "ok",
     "timestamp": 1708623375075,
     "user": {
      "displayName": "Beata Taudul",
      "userId": "05044565310731015655"
     },
     "user_tz": -60
    },
    "id": "i_h-ficSxKGW",
    "outputId": "7a97790a-9268-45ca-c51f-9690c60d038d"
   },
   "outputs": [
    {
     "name": "stdout",
     "output_type": "stream",
     "text": [
      "Mounted at /content/drive\n"
     ]
    }
   ],
   "source": [
    "drive.mount('/content/drive')"
   ]
  },
  {
   "cell_type": "code",
   "execution_count": 5,
   "metadata": {
    "executionInfo": {
     "elapsed": 417,
     "status": "ok",
     "timestamp": 1708623417531,
     "user": {
      "displayName": "Beata Taudul",
      "userId": "05044565310731015655"
     },
     "user_tz": -60
    },
    "id": "D5UdlOKOxKWT"
   },
   "outputs": [],
   "source": [
    "file_path = '/content/drive/MyDrive/Emotion_recognition/FER-2013/Train'"
   ]
  },
  {
   "cell_type": "code",
   "execution_count": null,
   "metadata": {
    "id": "SMq81bTW5Dfz"
   },
   "outputs": [],
   "source": [
    "from google.colab import drive\n",
    "drive.mount('/content/drive')"
   ]
  },
  {
   "cell_type": "code",
   "execution_count": 21,
   "metadata": {
    "executionInfo": {
     "elapsed": 594,
     "status": "ok",
     "timestamp": 1708592096078,
     "user": {
      "displayName": "Beata Taudul",
      "userId": "05044565310731015655"
     },
     "user_tz": -60
    },
    "id": "gyIacV8iBhBm"
   },
   "outputs": [],
   "source": [
    "test_path ='/content/drive/MyDrive/Emotion_recognition/FER-2013/Test'"
   ]
  },
  {
   "cell_type": "code",
   "execution_count": 8,
   "metadata": {
    "colab": {
     "base_uri": "https://localhost:8080/"
    },
    "executionInfo": {
     "elapsed": 15,
     "status": "ok",
     "timestamp": 1708589250378,
     "user": {
      "displayName": "Beata Taudul",
      "userId": "05044565310731015655"
     },
     "user_tz": -60
    },
    "id": "LeFh18vfxOS6",
    "outputId": "418172c0-60c6-403c-ad94-58d6627d8d31"
   },
   "outputs": [
    {
     "name": "stdout",
     "output_type": "stream",
     "text": [
      "GPU device found: /device:GPU:0\n"
     ]
    }
   ],
   "source": [
    "if tf.test.gpu_device_name():\n",
    "    print('GPU device found:', tf.test.gpu_device_name())\n",
    "else:\n",
    "    print('No GPU device found')"
   ]
  },
  {
   "cell_type": "code",
   "execution_count": 1,
   "metadata": {
    "executionInfo": {
     "elapsed": 5044,
     "status": "ok",
     "timestamp": 1708623289149,
     "user": {
      "displayName": "Beata Taudul",
      "userId": "05044565310731015655"
     },
     "user_tz": -60
    },
    "id": "ubTH2EUhuHIm"
   },
   "outputs": [],
   "source": [
    "from tensorflow.keras.models import Sequential\n",
    "from keras.utils import to_categorical\n",
    "\n",
    "from tensorflow.keras.layers import Conv2D, BatchNormalization, Activation, MaxPooling2D, Dropout, Flatten, Dense\n",
    "from tensorflow.keras.metrics import categorical_accuracy\n",
    "\n",
    "import tensorflow as tf\n",
    "from tensorflow.keras import layers, models\n",
    "from sklearn.model_selection import train_test_split\n",
    "\n",
    "from sklearn.metrics import confusion_matrix\n",
    "from sklearn.metrics import accuracy_score\n"
   ]
  },
  {
   "cell_type": "code",
   "execution_count": 2,
   "metadata": {
    "executionInfo": {
     "elapsed": 638,
     "status": "ok",
     "timestamp": 1708623293185,
     "user": {
      "displayName": "Beata Taudul",
      "userId": "05044565310731015655"
     },
     "user_tz": -60
    },
    "id": "jxyPi8CrMH3w"
   },
   "outputs": [],
   "source": [
    "from tensorflow.keras.models import load_model"
   ]
  },
  {
   "cell_type": "code",
   "execution_count": 7,
   "metadata": {
    "executionInfo": {
     "elapsed": 939,
     "status": "ok",
     "timestamp": 1708589245587,
     "user": {
      "displayName": "Beata Taudul",
      "userId": "05044565310731015655"
     },
     "user_tz": -60
    },
    "id": "HouvROqWvNTB"
   },
   "outputs": [],
   "source": [
    "import pandas as pd\n",
    "import matplotlib.pyplot as plt\n",
    "import os\n",
    "import numpy as np\n",
    "import cv2"
   ]
  },
  {
   "cell_type": "code",
   "execution_count": 3,
   "metadata": {
    "colab": {
     "base_uri": "https://localhost:8080/"
    },
    "executionInfo": {
     "elapsed": 403,
     "status": "ok",
     "timestamp": 1708594880380,
     "user": {
      "displayName": "Beata Taudul",
      "userId": "05044565310731015655"
     },
     "user_tz": -60
    },
    "id": "CZiMSPmLMIWQ",
    "outputId": "0bc4716d-ea9a-4e9f-982e-82c7a1dbfbe6"
   },
   "outputs": [
    {
     "name": "stdout",
     "output_type": "stream",
     "text": [
      "2.15.0\n"
     ]
    }
   ],
   "source": [
    "import tensorflow as tf\n",
    "print(tf.__version__)"
   ]
  },
  {
   "cell_type": "code",
   "execution_count": 1,
   "metadata": {
    "colab": {
     "base_uri": "https://localhost:8080/"
    },
    "executionInfo": {
     "elapsed": 7682,
     "status": "ok",
     "timestamp": 1708594831212,
     "user": {
      "displayName": "Beata Taudul",
      "userId": "05044565310731015655"
     },
     "user_tz": -60
    },
    "id": "Ek2uAC5OL61I",
    "outputId": "b348b8df-7370-4a8a-da45-3c8ea2566f8c"
   },
   "outputs": [
    {
     "name": "stdout",
     "output_type": "stream",
     "text": [
      "2.15.0\n"
     ]
    }
   ],
   "source": [
    "import keras\n",
    "print(keras.__version__)"
   ]
  },
  {
   "cell_type": "markdown",
   "metadata": {
    "id": "-hNfd8NEvoz4"
   },
   "source": [
    "## FUNCTIONS"
   ]
  },
  {
   "cell_type": "code",
   "execution_count": 10,
   "metadata": {
    "executionInfo": {
     "elapsed": 610,
     "status": "ok",
     "timestamp": 1708589269667,
     "user": {
      "displayName": "Beata Taudul",
      "userId": "05044565310731015655"
     },
     "user_tz": -60
    },
    "id": "iGEq9EIovsej"
   },
   "outputs": [],
   "source": [
    "def read_images(training_dir, categories, img_size=48):\n",
    "    images = []\n",
    "    img_size = img_size\n",
    "\n",
    "    for cat in categories:\n",
    "        path = os.path.join(training_dir, cat)\n",
    "        class_num = categories.index(cat)\n",
    "        print(cat, class_num)\n",
    "        for img in os.listdir(path):\n",
    "            img_array = cv2.imread(os.path.join(path,img))\n",
    "            new_img = cv2.resize(img_array, (img_size, img_size))\n",
    "            gray_image = cv2.cvtColor(new_img, cv2.COLOR_BGR2GRAY)\n",
    "            images.append([gray_image, class_num])\n",
    "    return images"
   ]
  },
  {
   "cell_type": "code",
   "execution_count": 11,
   "metadata": {
    "executionInfo": {
     "elapsed": 388,
     "status": "ok",
     "timestamp": 1708589273408,
     "user": {
      "displayName": "Beata Taudul",
      "userId": "05044565310731015655"
     },
     "user_tz": -60
    },
    "id": "gdtyoLgXvvq6"
   },
   "outputs": [],
   "source": [
    "def split_images_into_X_y(images, flatten = False, img_size =48):\n",
    "\n",
    "    img_size = img_size\n",
    "    X = []\n",
    "    y = []\n",
    "\n",
    "    for pict, label in images:\n",
    "        X.append(pict)\n",
    "        y.append(label)\n",
    "\n",
    "    X = np.array(X)\n",
    "    y = np.array(y)\n",
    "\n",
    "    X = X / 255.0\n",
    "\n",
    "    if flatten:\n",
    "        X_flatten = X.reshape((-1, img_size*img_size))\n",
    "        return X_flatten, y\n",
    "    else:\n",
    "        return X, y"
   ]
  },
  {
   "cell_type": "markdown",
   "metadata": {
    "id": "hvB3maaYv76g"
   },
   "source": [
    "# Train, test, validation split"
   ]
  },
  {
   "cell_type": "code",
   "execution_count": 12,
   "metadata": {
    "executionInfo": {
     "elapsed": 667,
     "status": "ok",
     "timestamp": 1708589282054,
     "user": {
      "displayName": "Beata Taudul",
      "userId": "05044565310731015655"
     },
     "user_tz": -60
    },
    "id": "GwIebirvv-te"
   },
   "outputs": [],
   "source": [
    "categories = ['0', '1', '2', '3', '4', '5', '6']"
   ]
  },
  {
   "cell_type": "code",
   "execution_count": 13,
   "metadata": {
    "colab": {
     "base_uri": "https://localhost:8080/"
    },
    "executionInfo": {
     "elapsed": 678711,
     "status": "ok",
     "timestamp": 1708590066786,
     "user": {
      "displayName": "Beata Taudul",
      "userId": "05044565310731015655"
     },
     "user_tz": -60
    },
    "id": "Tnt8gDYnwB4j",
    "outputId": "0c90c0eb-4a70-44c2-e1dd-10338ea520a5"
   },
   "outputs": [
    {
     "name": "stdout",
     "output_type": "stream",
     "text": [
      "0 0\n",
      "1 1\n",
      "2 2\n",
      "3 3\n",
      "4 4\n",
      "5 5\n",
      "6 6\n"
     ]
    }
   ],
   "source": [
    "images = read_images(file_path, categories, img_size=48)"
   ]
  },
  {
   "cell_type": "code",
   "execution_count": 14,
   "metadata": {
    "executionInfo": {
     "elapsed": 410,
     "status": "ok",
     "timestamp": 1708590350417,
     "user": {
      "displayName": "Beata Taudul",
      "userId": "05044565310731015655"
     },
     "user_tz": -60
    },
    "id": "2Yg7z2cfwFGJ"
   },
   "outputs": [],
   "source": [
    "X_train, y_train = split_images_into_X_y(images, flatten = False, img_size =48)"
   ]
  },
  {
   "cell_type": "code",
   "execution_count": null,
   "metadata": {
    "id": "dkjZXdpowF4f"
   },
   "outputs": [],
   "source": [
    "# X_train, X_val, y_train, y_val = train_test_split(X_train, y_train, test_size=0.1, random_state=42)"
   ]
  },
  {
   "cell_type": "code",
   "execution_count": 15,
   "metadata": {
    "colab": {
     "base_uri": "https://localhost:8080/"
    },
    "executionInfo": {
     "elapsed": 455,
     "status": "ok",
     "timestamp": 1708590358874,
     "user": {
      "displayName": "Beata Taudul",
      "userId": "05044565310731015655"
     },
     "user_tz": -60
    },
    "id": "cCB0Jlu41JFr",
    "outputId": "344e58cf-3023-4824-9842-6ffb2e15e7fd"
   },
   "outputs": [
    {
     "data": {
      "text/plain": [
       "(21611, 48, 48)"
      ]
     },
     "execution_count": 15,
     "metadata": {},
     "output_type": "execute_result"
    }
   ],
   "source": [
    "X_train.shape"
   ]
  },
  {
   "cell_type": "code",
   "execution_count": 16,
   "metadata": {
    "colab": {
     "base_uri": "https://localhost:8080/"
    },
    "executionInfo": {
     "elapsed": 9,
     "status": "ok",
     "timestamp": 1708590371688,
     "user": {
      "displayName": "Beata Taudul",
      "userId": "05044565310731015655"
     },
     "user_tz": -60
    },
    "id": "FGsufVaY1K8_",
    "outputId": "e6243b96-78e0-4e09-c8d9-f5d1020e9146"
   },
   "outputs": [
    {
     "data": {
      "text/plain": [
       "(21611,)"
      ]
     },
     "execution_count": 16,
     "metadata": {},
     "output_type": "execute_result"
    }
   ],
   "source": [
    "y_train.shape"
   ]
  },
  {
   "cell_type": "code",
   "execution_count": 22,
   "metadata": {
    "colab": {
     "base_uri": "https://localhost:8080/"
    },
    "executionInfo": {
     "elapsed": 228826,
     "status": "ok",
     "timestamp": 1708592367846,
     "user": {
      "displayName": "Beata Taudul",
      "userId": "05044565310731015655"
     },
     "user_tz": -60
    },
    "id": "UiEc6qHHBpA3",
    "outputId": "34af11df-e596-43f5-8b8d-a3a8a0be659b"
   },
   "outputs": [
    {
     "name": "stdout",
     "output_type": "stream",
     "text": [
      "0 0\n",
      "1 1\n",
      "2 2\n",
      "3 3\n",
      "4 4\n",
      "5 5\n",
      "6 6\n"
     ]
    }
   ],
   "source": [
    "test_images = read_images(test_path, categories, img_size=48)"
   ]
  },
  {
   "cell_type": "code",
   "execution_count": 23,
   "metadata": {
    "executionInfo": {
     "elapsed": 458,
     "status": "ok",
     "timestamp": 1708592400474,
     "user": {
      "displayName": "Beata Taudul",
      "userId": "05044565310731015655"
     },
     "user_tz": -60
    },
    "id": "qNaefnNXBqLl"
   },
   "outputs": [],
   "source": [
    "X_test, y_test = split_images_into_X_y(test_images, flatten = False, img_size =48)"
   ]
  },
  {
   "cell_type": "code",
   "execution_count": 24,
   "metadata": {
    "colab": {
     "base_uri": "https://localhost:8080/"
    },
    "executionInfo": {
     "elapsed": 414,
     "status": "ok",
     "timestamp": 1708592438902,
     "user": {
      "displayName": "Beata Taudul",
      "userId": "05044565310731015655"
     },
     "user_tz": -60
    },
    "id": "8QEFFVUkCxA-",
    "outputId": "6fddea19-d63b-49f0-bb5f-1691dd15fed3"
   },
   "outputs": [
    {
     "data": {
      "text/plain": [
       "((7178, 48, 48), (7178,))"
      ]
     },
     "execution_count": 24,
     "metadata": {},
     "output_type": "execute_result"
    }
   ],
   "source": [
    "X_test.shape, y_test.shape"
   ]
  },
  {
   "cell_type": "markdown",
   "metadata": {
    "id": "rpx2Tn3kwdIX"
   },
   "source": [
    "# Model deep 48x48 pixels"
   ]
  },
  {
   "cell_type": "code",
   "execution_count": 17,
   "metadata": {
    "executionInfo": {
     "elapsed": 932,
     "status": "ok",
     "timestamp": 1708590377253,
     "user": {
      "displayName": "Beata Taudul",
      "userId": "05044565310731015655"
     },
     "user_tz": -60
    },
    "id": "ANowD3v3weoH"
   },
   "outputs": [],
   "source": [
    "model = Sequential()\n",
    "\n",
    "# 1 - Convolution\n",
    "model.add(Conv2D(64, (3, 3), padding='same', input_shape=(48, 48, 1)))\n",
    "model.add(BatchNormalization())\n",
    "model.add(Activation('relu'))\n",
    "model.add(MaxPooling2D(pool_size=(2, 2)))\n",
    "model.add(Dropout(0.25))\n",
    "\n",
    "# 2nd Convolution layer\n",
    "model.add(Conv2D(128, (5, 5), padding='same'))\n",
    "model.add(BatchNormalization())\n",
    "model.add(Activation('relu'))\n",
    "model.add(MaxPooling2D(pool_size=(2, 2)))\n",
    "model.add(Dropout(0.25))\n",
    "\n",
    "# 3rd Convolution layer\n",
    "model.add(Conv2D(512, (3, 3), padding='same'))\n",
    "model.add(BatchNormalization())\n",
    "model.add(Activation('relu'))\n",
    "model.add(MaxPooling2D(pool_size=(2, 2)))\n",
    "model.add(Dropout(0.25))\n",
    "\n",
    "# 4th Convolution layer\n",
    "model.add(Conv2D(512, (3, 3), padding='same'))\n",
    "model.add(BatchNormalization())\n",
    "model.add(Activation('relu'))\n",
    "model.add(MaxPooling2D(pool_size=(2, 2)))\n",
    "model.add(Dropout(0.25))\n",
    "\n",
    "# Flattening\n",
    "model.add(Flatten())\n",
    "\n",
    "# Fully connected layer 1st layer\n",
    "model.add(Dense(256))\n",
    "model.add(BatchNormalization())\n",
    "model.add(Activation('relu'))\n",
    "model.add(Dropout(0.25))\n",
    "\n",
    "# Fully connected layer 2nd layer\n",
    "model.add(Dense(512))\n",
    "model.add(BatchNormalization())\n",
    "model.add(Activation('relu'))\n",
    "model.add(Dropout(0.25))\n",
    "\n",
    "model.add(Dense(7, activation='softmax'))\n",
    "\n",
    "# model.compile(, loss='binary_crossentropy', metrics=[categorical_accuracy])"
   ]
  },
  {
   "cell_type": "code",
   "execution_count": 18,
   "metadata": {
    "executionInfo": {
     "elapsed": 739,
     "status": "ok",
     "timestamp": 1708590380669,
     "user": {
      "displayName": "Beata Taudul",
      "userId": "05044565310731015655"
     },
     "user_tz": -60
    },
    "id": "C-WCiTEOwk3y"
   },
   "outputs": [],
   "source": [
    "model.compile(optimizer='adam',\n",
    "              loss='categorical_crossentropy',\n",
    "              metrics=['categorical_accuracy'])"
   ]
  },
  {
   "cell_type": "code",
   "execution_count": 19,
   "metadata": {
    "colab": {
     "base_uri": "https://localhost:8080/"
    },
    "executionInfo": {
     "elapsed": 1345442,
     "status": "ok",
     "timestamp": 1708591734114,
     "user": {
      "displayName": "Beata Taudul",
      "userId": "05044565310731015655"
     },
     "user_tz": -60
    },
    "id": "HxgRYHJ0wlu6",
    "outputId": "8eeaed4e-fbd8-4ec7-8375-898697a97f82"
   },
   "outputs": [
    {
     "name": "stdout",
     "output_type": "stream",
     "text": [
      "Epoch 1/124\n",
      "169/169 [==============================] - 25s 76ms/step - loss: 1.9129 - categorical_accuracy: 0.2516\n",
      "Epoch 2/124\n",
      "169/169 [==============================] - 11s 63ms/step - loss: 1.5843 - categorical_accuracy: 0.3793\n",
      "Epoch 3/124\n",
      "169/169 [==============================] - 11s 63ms/step - loss: 1.4061 - categorical_accuracy: 0.4546\n",
      "Epoch 4/124\n",
      "169/169 [==============================] - 11s 63ms/step - loss: 1.3080 - categorical_accuracy: 0.4953\n",
      "Epoch 5/124\n",
      "169/169 [==============================] - 11s 62ms/step - loss: 1.2289 - categorical_accuracy: 0.5280\n",
      "Epoch 6/124\n",
      "169/169 [==============================] - 11s 62ms/step - loss: 1.1656 - categorical_accuracy: 0.5549\n",
      "Epoch 7/124\n",
      "169/169 [==============================] - 10s 62ms/step - loss: 1.1238 - categorical_accuracy: 0.5758\n",
      "Epoch 8/124\n",
      "169/169 [==============================] - 10s 61ms/step - loss: 1.0618 - categorical_accuracy: 0.5977\n",
      "Epoch 9/124\n",
      "169/169 [==============================] - 10s 62ms/step - loss: 1.0220 - categorical_accuracy: 0.6147\n",
      "Epoch 10/124\n",
      "169/169 [==============================] - 11s 62ms/step - loss: 0.9734 - categorical_accuracy: 0.6276\n",
      "Epoch 11/124\n",
      "169/169 [==============================] - 11s 62ms/step - loss: 0.9333 - categorical_accuracy: 0.6463\n",
      "Epoch 12/124\n",
      "169/169 [==============================] - 11s 62ms/step - loss: 0.8830 - categorical_accuracy: 0.6704\n",
      "Epoch 13/124\n",
      "169/169 [==============================] - 10s 61ms/step - loss: 0.8334 - categorical_accuracy: 0.6892\n",
      "Epoch 14/124\n",
      "169/169 [==============================] - 10s 62ms/step - loss: 0.7779 - categorical_accuracy: 0.7089\n",
      "Epoch 15/124\n",
      "169/169 [==============================] - 11s 62ms/step - loss: 0.7427 - categorical_accuracy: 0.7214\n",
      "Epoch 16/124\n",
      "169/169 [==============================] - 11s 62ms/step - loss: 0.6869 - categorical_accuracy: 0.7439\n",
      "Epoch 17/124\n",
      "169/169 [==============================] - 10s 62ms/step - loss: 0.6539 - categorical_accuracy: 0.7581\n",
      "Epoch 18/124\n",
      "169/169 [==============================] - 10s 62ms/step - loss: 0.6073 - categorical_accuracy: 0.7720\n",
      "Epoch 19/124\n",
      "169/169 [==============================] - 10s 62ms/step - loss: 0.5623 - categorical_accuracy: 0.7933\n",
      "Epoch 20/124\n",
      "169/169 [==============================] - 10s 62ms/step - loss: 0.5237 - categorical_accuracy: 0.8097\n",
      "Epoch 21/124\n",
      "169/169 [==============================] - 11s 62ms/step - loss: 0.4859 - categorical_accuracy: 0.8192\n",
      "Epoch 22/124\n",
      "169/169 [==============================] - 10s 62ms/step - loss: 0.4440 - categorical_accuracy: 0.8339\n",
      "Epoch 23/124\n",
      "169/169 [==============================] - 10s 61ms/step - loss: 0.4266 - categorical_accuracy: 0.8438\n",
      "Epoch 24/124\n",
      "169/169 [==============================] - 11s 62ms/step - loss: 0.4019 - categorical_accuracy: 0.8559\n",
      "Epoch 25/124\n",
      "169/169 [==============================] - 10s 62ms/step - loss: 0.3692 - categorical_accuracy: 0.8653\n",
      "Epoch 26/124\n",
      "169/169 [==============================] - 10s 62ms/step - loss: 0.3398 - categorical_accuracy: 0.8747\n",
      "Epoch 27/124\n",
      "169/169 [==============================] - 10s 62ms/step - loss: 0.3129 - categorical_accuracy: 0.8841\n",
      "Epoch 28/124\n",
      "169/169 [==============================] - 10s 61ms/step - loss: 0.3023 - categorical_accuracy: 0.8867\n",
      "Epoch 29/124\n",
      "169/169 [==============================] - 10s 62ms/step - loss: 0.2874 - categorical_accuracy: 0.8969\n",
      "Epoch 30/124\n",
      "169/169 [==============================] - 11s 63ms/step - loss: 0.2733 - categorical_accuracy: 0.9017\n",
      "Epoch 31/124\n",
      "169/169 [==============================] - 11s 63ms/step - loss: 0.2473 - categorical_accuracy: 0.9108\n",
      "Epoch 32/124\n",
      "169/169 [==============================] - 11s 62ms/step - loss: 0.2354 - categorical_accuracy: 0.9158\n",
      "Epoch 33/124\n",
      "169/169 [==============================] - 10s 61ms/step - loss: 0.2310 - categorical_accuracy: 0.9173\n",
      "Epoch 34/124\n",
      "169/169 [==============================] - 11s 62ms/step - loss: 0.2125 - categorical_accuracy: 0.9237\n",
      "Epoch 35/124\n",
      "169/169 [==============================] - 11s 62ms/step - loss: 0.2085 - categorical_accuracy: 0.9251\n",
      "Epoch 36/124\n",
      "169/169 [==============================] - 11s 62ms/step - loss: 0.1953 - categorical_accuracy: 0.9313\n",
      "Epoch 37/124\n",
      "169/169 [==============================] - 11s 62ms/step - loss: 0.1849 - categorical_accuracy: 0.9342\n",
      "Epoch 38/124\n",
      "169/169 [==============================] - 10s 62ms/step - loss: 0.1892 - categorical_accuracy: 0.9345\n",
      "Epoch 39/124\n",
      "169/169 [==============================] - 10s 62ms/step - loss: 0.1756 - categorical_accuracy: 0.9381\n",
      "Epoch 40/124\n",
      "169/169 [==============================] - 10s 62ms/step - loss: 0.1728 - categorical_accuracy: 0.9388\n",
      "Epoch 41/124\n",
      "169/169 [==============================] - 11s 62ms/step - loss: 0.1543 - categorical_accuracy: 0.9448\n",
      "Epoch 42/124\n",
      "169/169 [==============================] - 10s 62ms/step - loss: 0.1625 - categorical_accuracy: 0.9423\n",
      "Epoch 43/124\n",
      "169/169 [==============================] - 11s 62ms/step - loss: 0.1614 - categorical_accuracy: 0.9440\n",
      "Epoch 44/124\n",
      "169/169 [==============================] - 11s 63ms/step - loss: 0.1526 - categorical_accuracy: 0.9467\n",
      "Epoch 45/124\n",
      "169/169 [==============================] - 11s 62ms/step - loss: 0.1433 - categorical_accuracy: 0.9498\n",
      "Epoch 46/124\n",
      "169/169 [==============================] - 11s 63ms/step - loss: 0.1388 - categorical_accuracy: 0.9500\n",
      "Epoch 47/124\n",
      "169/169 [==============================] - 11s 62ms/step - loss: 0.1438 - categorical_accuracy: 0.9497\n",
      "Epoch 48/124\n",
      "169/169 [==============================] - 10s 61ms/step - loss: 0.1378 - categorical_accuracy: 0.9522\n",
      "Epoch 49/124\n",
      "169/169 [==============================] - 11s 63ms/step - loss: 0.1271 - categorical_accuracy: 0.9566\n",
      "Epoch 50/124\n",
      "169/169 [==============================] - 11s 63ms/step - loss: 0.1268 - categorical_accuracy: 0.9553\n",
      "Epoch 51/124\n",
      "169/169 [==============================] - 11s 62ms/step - loss: 0.1360 - categorical_accuracy: 0.9521\n",
      "Epoch 52/124\n",
      "169/169 [==============================] - 10s 62ms/step - loss: 0.1244 - categorical_accuracy: 0.9566\n",
      "Epoch 53/124\n",
      "169/169 [==============================] - 10s 62ms/step - loss: 0.1173 - categorical_accuracy: 0.9607\n",
      "Epoch 54/124\n",
      "169/169 [==============================] - 11s 62ms/step - loss: 0.1226 - categorical_accuracy: 0.9548\n",
      "Epoch 55/124\n",
      "169/169 [==============================] - 10s 62ms/step - loss: 0.1271 - categorical_accuracy: 0.9576\n",
      "Epoch 56/124\n",
      "169/169 [==============================] - 11s 62ms/step - loss: 0.1130 - categorical_accuracy: 0.9607\n",
      "Epoch 57/124\n",
      "169/169 [==============================] - 11s 62ms/step - loss: 0.1049 - categorical_accuracy: 0.9629\n",
      "Epoch 58/124\n",
      "169/169 [==============================] - 11s 63ms/step - loss: 0.1153 - categorical_accuracy: 0.9602\n",
      "Epoch 59/124\n",
      "169/169 [==============================] - 11s 62ms/step - loss: 0.1176 - categorical_accuracy: 0.9590\n",
      "Epoch 60/124\n",
      "169/169 [==============================] - 11s 62ms/step - loss: 0.1120 - categorical_accuracy: 0.9610\n",
      "Epoch 61/124\n",
      "169/169 [==============================] - 10s 62ms/step - loss: 0.1082 - categorical_accuracy: 0.9628\n",
      "Epoch 62/124\n",
      "169/169 [==============================] - 10s 62ms/step - loss: 0.0984 - categorical_accuracy: 0.9662\n",
      "Epoch 63/124\n",
      "169/169 [==============================] - 10s 61ms/step - loss: 0.0961 - categorical_accuracy: 0.9651\n",
      "Epoch 64/124\n",
      "169/169 [==============================] - 10s 62ms/step - loss: 0.1051 - categorical_accuracy: 0.9633\n",
      "Epoch 65/124\n",
      "169/169 [==============================] - 11s 62ms/step - loss: 0.0975 - categorical_accuracy: 0.9657\n",
      "Epoch 66/124\n",
      "169/169 [==============================] - 10s 62ms/step - loss: 0.1005 - categorical_accuracy: 0.9663\n",
      "Epoch 67/124\n",
      "169/169 [==============================] - 10s 62ms/step - loss: 0.0964 - categorical_accuracy: 0.9679\n",
      "Epoch 68/124\n",
      "169/169 [==============================] - 10s 61ms/step - loss: 0.0988 - categorical_accuracy: 0.9654\n",
      "Epoch 69/124\n",
      "169/169 [==============================] - 11s 62ms/step - loss: 0.0947 - categorical_accuracy: 0.9683\n",
      "Epoch 70/124\n",
      "169/169 [==============================] - 11s 62ms/step - loss: 0.0910 - categorical_accuracy: 0.9679\n",
      "Epoch 71/124\n",
      "169/169 [==============================] - 11s 62ms/step - loss: 0.0871 - categorical_accuracy: 0.9696\n",
      "Epoch 72/124\n",
      "169/169 [==============================] - 10s 62ms/step - loss: 0.0963 - categorical_accuracy: 0.9677\n",
      "Epoch 73/124\n",
      "169/169 [==============================] - 10s 62ms/step - loss: 0.0880 - categorical_accuracy: 0.9691\n",
      "Epoch 74/124\n",
      "169/169 [==============================] - 10s 62ms/step - loss: 0.0826 - categorical_accuracy: 0.9708\n",
      "Epoch 75/124\n",
      "169/169 [==============================] - 11s 63ms/step - loss: 0.0895 - categorical_accuracy: 0.9685\n",
      "Epoch 76/124\n",
      "169/169 [==============================] - 11s 62ms/step - loss: 0.0822 - categorical_accuracy: 0.9710\n",
      "Epoch 77/124\n",
      "169/169 [==============================] - 10s 62ms/step - loss: 0.0860 - categorical_accuracy: 0.9705\n",
      "Epoch 78/124\n",
      "169/169 [==============================] - 10s 61ms/step - loss: 0.0884 - categorical_accuracy: 0.9693\n",
      "Epoch 79/124\n",
      "169/169 [==============================] - 11s 62ms/step - loss: 0.0808 - categorical_accuracy: 0.9712\n",
      "Epoch 80/124\n",
      "169/169 [==============================] - 10s 62ms/step - loss: 0.0811 - categorical_accuracy: 0.9728\n",
      "Epoch 81/124\n",
      "169/169 [==============================] - 10s 62ms/step - loss: 0.0794 - categorical_accuracy: 0.9719\n",
      "Epoch 82/124\n",
      "169/169 [==============================] - 10s 62ms/step - loss: 0.0849 - categorical_accuracy: 0.9701\n",
      "Epoch 83/124\n",
      "169/169 [==============================] - 10s 61ms/step - loss: 0.0762 - categorical_accuracy: 0.9738\n",
      "Epoch 84/124\n",
      "169/169 [==============================] - 11s 63ms/step - loss: 0.0794 - categorical_accuracy: 0.9734\n",
      "Epoch 85/124\n",
      "169/169 [==============================] - 11s 64ms/step - loss: 0.0768 - categorical_accuracy: 0.9727\n",
      "Epoch 86/124\n",
      "169/169 [==============================] - 11s 63ms/step - loss: 0.0763 - categorical_accuracy: 0.9741\n",
      "Epoch 87/124\n",
      "169/169 [==============================] - 11s 63ms/step - loss: 0.0741 - categorical_accuracy: 0.9752\n",
      "Epoch 88/124\n",
      "169/169 [==============================] - 10s 62ms/step - loss: 0.0735 - categorical_accuracy: 0.9758\n",
      "Epoch 89/124\n",
      "169/169 [==============================] - 11s 62ms/step - loss: 0.0704 - categorical_accuracy: 0.9757\n",
      "Epoch 90/124\n",
      "169/169 [==============================] - 11s 63ms/step - loss: 0.0805 - categorical_accuracy: 0.9719\n",
      "Epoch 91/124\n",
      "169/169 [==============================] - 11s 63ms/step - loss: 0.0738 - categorical_accuracy: 0.9738\n",
      "Epoch 92/124\n",
      "169/169 [==============================] - 11s 62ms/step - loss: 0.0746 - categorical_accuracy: 0.9735\n",
      "Epoch 93/124\n",
      "169/169 [==============================] - 10s 62ms/step - loss: 0.0707 - categorical_accuracy: 0.9757\n",
      "Epoch 94/124\n",
      "169/169 [==============================] - 11s 63ms/step - loss: 0.0679 - categorical_accuracy: 0.9753\n",
      "Epoch 95/124\n",
      "169/169 [==============================] - 11s 63ms/step - loss: 0.0737 - categorical_accuracy: 0.9740\n",
      "Epoch 96/124\n",
      "169/169 [==============================] - 11s 63ms/step - loss: 0.0713 - categorical_accuracy: 0.9757\n",
      "Epoch 97/124\n",
      "169/169 [==============================] - 11s 62ms/step - loss: 0.0672 - categorical_accuracy: 0.9756\n",
      "Epoch 98/124\n",
      "169/169 [==============================] - 11s 62ms/step - loss: 0.0706 - categorical_accuracy: 0.9761\n",
      "Epoch 99/124\n",
      "169/169 [==============================] - 11s 63ms/step - loss: 0.0671 - categorical_accuracy: 0.9761\n",
      "Epoch 100/124\n",
      "169/169 [==============================] - 11s 63ms/step - loss: 0.0656 - categorical_accuracy: 0.9762\n",
      "Epoch 101/124\n",
      "169/169 [==============================] - 11s 63ms/step - loss: 0.0698 - categorical_accuracy: 0.9763\n",
      "Epoch 102/124\n",
      "169/169 [==============================] - 11s 63ms/step - loss: 0.0679 - categorical_accuracy: 0.9755\n",
      "Epoch 103/124\n",
      "169/169 [==============================] - 11s 62ms/step - loss: 0.0664 - categorical_accuracy: 0.9771\n",
      "Epoch 104/124\n",
      "169/169 [==============================] - 11s 63ms/step - loss: 0.0680 - categorical_accuracy: 0.9764\n",
      "Epoch 105/124\n",
      "169/169 [==============================] - 11s 63ms/step - loss: 0.0598 - categorical_accuracy: 0.9785\n",
      "Epoch 106/124\n",
      "169/169 [==============================] - 11s 63ms/step - loss: 0.0686 - categorical_accuracy: 0.9759\n",
      "Epoch 107/124\n",
      "169/169 [==============================] - 11s 63ms/step - loss: 0.0652 - categorical_accuracy: 0.9778\n",
      "Epoch 108/124\n",
      "169/169 [==============================] - 11s 63ms/step - loss: 0.0616 - categorical_accuracy: 0.9776\n",
      "Epoch 109/124\n",
      "169/169 [==============================] - 11s 63ms/step - loss: 0.0654 - categorical_accuracy: 0.9784\n",
      "Epoch 110/124\n",
      "169/169 [==============================] - 11s 62ms/step - loss: 0.0604 - categorical_accuracy: 0.9787\n",
      "Epoch 111/124\n",
      "169/169 [==============================] - 11s 63ms/step - loss: 0.0617 - categorical_accuracy: 0.9783\n",
      "Epoch 112/124\n",
      "169/169 [==============================] - 11s 62ms/step - loss: 0.0524 - categorical_accuracy: 0.9812\n",
      "Epoch 113/124\n",
      "169/169 [==============================] - 11s 62ms/step - loss: 0.0558 - categorical_accuracy: 0.9810\n",
      "Epoch 114/124\n",
      "169/169 [==============================] - 11s 63ms/step - loss: 0.0619 - categorical_accuracy: 0.9785\n",
      "Epoch 115/124\n",
      "169/169 [==============================] - 11s 63ms/step - loss: 0.0608 - categorical_accuracy: 0.9789\n",
      "Epoch 116/124\n",
      "169/169 [==============================] - 11s 63ms/step - loss: 0.0607 - categorical_accuracy: 0.9785\n",
      "Epoch 117/124\n",
      "169/169 [==============================] - 11s 63ms/step - loss: 0.0564 - categorical_accuracy: 0.9795\n",
      "Epoch 118/124\n",
      "169/169 [==============================] - 11s 62ms/step - loss: 0.0558 - categorical_accuracy: 0.9802\n",
      "Epoch 119/124\n",
      "169/169 [==============================] - 10s 62ms/step - loss: 0.0615 - categorical_accuracy: 0.9784\n",
      "Epoch 120/124\n",
      "169/169 [==============================] - 11s 63ms/step - loss: 0.0560 - categorical_accuracy: 0.9811\n",
      "Epoch 121/124\n",
      "169/169 [==============================] - 11s 63ms/step - loss: 0.0589 - categorical_accuracy: 0.9795\n",
      "Epoch 122/124\n",
      "169/169 [==============================] - 11s 62ms/step - loss: 0.0585 - categorical_accuracy: 0.9806\n",
      "Epoch 123/124\n",
      "169/169 [==============================] - 10s 62ms/step - loss: 0.0571 - categorical_accuracy: 0.9805\n",
      "Epoch 124/124\n",
      "169/169 [==============================] - 11s 62ms/step - loss: 0.0592 - categorical_accuracy: 0.9801\n"
     ]
    }
   ],
   "source": [
    "history = model.fit(\n",
    "    X_train,\n",
    "    to_categorical(y_train),\n",
    "    epochs=124,\n",
    "    batch_size=128,\n",
    "    #validation_data=(X_val, to_categorical(y_val))\n",
    ")"
   ]
  },
  {
   "cell_type": "code",
   "execution_count": 20,
   "metadata": {
    "executionInfo": {
     "elapsed": 1116,
     "status": "ok",
     "timestamp": 1708592059818,
     "user": {
      "displayName": "Beata Taudul",
      "userId": "05044565310731015655"
     },
     "user_tz": -60
    },
    "id": "WKP8j27x7FPH"
   },
   "outputs": [],
   "source": [
    "model.save('/content/drive/MyDrive/Emotion_recognition/FER-2013/CNN_deep_github.keras')"
   ]
  },
  {
   "cell_type": "code",
   "execution_count": 25,
   "metadata": {
    "colab": {
     "base_uri": "https://localhost:8080/"
    },
    "executionInfo": {
     "elapsed": 3170,
     "status": "ok",
     "timestamp": 1708592485257,
     "user": {
      "displayName": "Beata Taudul",
      "userId": "05044565310731015655"
     },
     "user_tz": -60
    },
    "id": "zzaAgPA-Bc9f",
    "outputId": "35e4c533-61f3-491d-a212-14605ceff862"
   },
   "outputs": [
    {
     "name": "stdout",
     "output_type": "stream",
     "text": [
      "225/225 [==============================] - 3s 8ms/step - loss: 2.4800 - categorical_accuracy: 0.6101\n"
     ]
    }
   ],
   "source": [
    "test_loss, test_accuracy = model.evaluate(X_test, to_categorical(y_test))"
   ]
  },
  {
   "cell_type": "code",
   "execution_count": 4,
   "metadata": {
    "colab": {
     "base_uri": "https://localhost:8080/",
     "height": 147
    },
    "executionInfo": {
     "elapsed": 514,
     "status": "error",
     "timestamp": 1708595113753,
     "user": {
      "displayName": "Beata Taudul",
      "userId": "05044565310731015655"
     },
     "user_tz": -60
    },
    "id": "5uOqztSBNBIH",
    "outputId": "43ada4f7-aba0-4c88-8940-f933ba3f820d"
   },
   "outputs": [
    {
     "ename": "NameError",
     "evalue": "name 'model' is not defined",
     "output_type": "error",
     "traceback": [
      "\u001b[0;31m---------------------------------------------------------------------------\u001b[0m",
      "\u001b[0;31mNameError\u001b[0m                                 Traceback (most recent call last)",
      "\u001b[0;32m<ipython-input-4-f22ce88b13af>\u001b[0m in \u001b[0;36m<cell line: 1>\u001b[0;34m()\u001b[0m\n\u001b[0;32m----> 1\u001b[0;31m \u001b[0mmodel\u001b[0m\u001b[0;34m.\u001b[0m\u001b[0msave\u001b[0m\u001b[0;34m(\u001b[0m\u001b[0;34m'/content/drive/MyDrive/Emotion_recognition/FER-2013/CNN_48x48.h5'\u001b[0m\u001b[0;34m)\u001b[0m\u001b[0;34m\u001b[0m\u001b[0;34m\u001b[0m\u001b[0m\n\u001b[0m",
      "\u001b[0;31mNameError\u001b[0m: name 'model' is not defined"
     ]
    }
   ],
   "source": [
    "model.save('/content/drive/MyDrive/Emotion_recognition/FER-2013/CNN_48x48.h5')"
   ]
  },
  {
   "cell_type": "code",
   "execution_count": 26,
   "metadata": {
    "colab": {
     "base_uri": "https://localhost:8080/"
    },
    "executionInfo": {
     "elapsed": 3875,
     "status": "ok",
     "timestamp": 1708592583618,
     "user": {
      "displayName": "Beata Taudul",
      "userId": "05044565310731015655"
     },
     "user_tz": -60
    },
    "id": "x6Hdu7ffDEVY",
    "outputId": "8c54b331-91ff-4b35-d952-a3ef706bc5ae"
   },
   "outputs": [
    {
     "name": "stdout",
     "output_type": "stream",
     "text": [
      "225/225 [==============================] - 2s 6ms/step\n"
     ]
    }
   ],
   "source": [
    "y_pred = model.predict(X_test)\n",
    "\n",
    "y_pred_labels = np.argmax(y_pred, axis=1)"
   ]
  },
  {
   "cell_type": "code",
   "execution_count": 28,
   "metadata": {
    "colab": {
     "base_uri": "https://localhost:8080/"
    },
    "executionInfo": {
     "elapsed": 384,
     "status": "ok",
     "timestamp": 1708592596186,
     "user": {
      "displayName": "Beata Taudul",
      "userId": "05044565310731015655"
     },
     "user_tz": -60
    },
    "id": "FtDXWD7CDcK7",
    "outputId": "ab6399a3-74cb-4404-c052-26d041ed8164"
   },
   "outputs": [
    {
     "data": {
      "text/plain": [
       "array([0, 6, 0, ..., 4, 6, 3])"
      ]
     },
     "execution_count": 28,
     "metadata": {},
     "output_type": "execute_result"
    }
   ],
   "source": [
    "y_pred_labels"
   ]
  },
  {
   "cell_type": "code",
   "execution_count": 30,
   "metadata": {
    "colab": {
     "base_uri": "https://localhost:8080/"
    },
    "executionInfo": {
     "elapsed": 510,
     "status": "ok",
     "timestamp": 1708592657835,
     "user": {
      "displayName": "Beata Taudul",
      "userId": "05044565310731015655"
     },
     "user_tz": -60
    },
    "id": "AAB7D2jIDew7",
    "outputId": "7a6610d1-bf2b-4959-b257-12469cc3d7fb"
   },
   "outputs": [
    {
     "data": {
      "text/plain": [
       "array([[ 512,    7,   62,   54,  159,   18,  146],\n",
       "       [  15,   61,    5,    4,   18,    0,    8],\n",
       "       [  97,    0,  422,   56,  234,   57,  158],\n",
       "       [  56,    0,   46, 1373,  111,   17,  171],\n",
       "       [ 145,    2,  107,   71,  643,    6,  273],\n",
       "       [  31,    0,   79,   39,   35,  595,   52],\n",
       "       [ 104,    1,   49,   91,  210,    5,  773]])"
      ]
     },
     "execution_count": 30,
     "metadata": {},
     "output_type": "execute_result"
    }
   ],
   "source": [
    "cf_model = confusion_matrix(y_test, y_pred_labels)\n",
    "cf_model"
   ]
  },
  {
   "cell_type": "code",
   "execution_count": 6,
   "metadata": {
    "executionInfo": {
     "elapsed": 11190,
     "status": "ok",
     "timestamp": 1708623447957,
     "user": {
      "displayName": "Beata Taudul",
      "userId": "05044565310731015655"
     },
     "user_tz": -60
    },
    "id": "GpQGZb7aDtRa"
   },
   "outputs": [],
   "source": [
    "new_model = tf.keras.models.load_model('/content/drive/MyDrive/Emotion_recognition/FER-2013/CNN_deep_github.keras')"
   ]
  },
  {
   "cell_type": "code",
   "execution_count": 7,
   "metadata": {
    "colab": {
     "base_uri": "https://localhost:8080/"
    },
    "executionInfo": {
     "elapsed": 486,
     "status": "ok",
     "timestamp": 1708623473082,
     "user": {
      "displayName": "Beata Taudul",
      "userId": "05044565310731015655"
     },
     "user_tz": -60
    },
    "id": "AbkV5Blc5PA9",
    "outputId": "30710ee8-f0e0-44b2-c11b-e58852dfe346"
   },
   "outputs": [
    {
     "name": "stdout",
     "output_type": "stream",
     "text": [
      "Model: \"sequential\"\n",
      "_________________________________________________________________\n",
      " Layer (type)                Output Shape              Param #   \n",
      "=================================================================\n",
      " conv2d (Conv2D)             (None, 48, 48, 64)        640       \n",
      "                                                                 \n",
      " batch_normalization (Batch  (None, 48, 48, 64)        256       \n",
      " Normalization)                                                  \n",
      "                                                                 \n",
      " activation (Activation)     (None, 48, 48, 64)        0         \n",
      "                                                                 \n",
      " max_pooling2d (MaxPooling2  (None, 24, 24, 64)        0         \n",
      " D)                                                              \n",
      "                                                                 \n",
      " dropout (Dropout)           (None, 24, 24, 64)        0         \n",
      "                                                                 \n",
      " conv2d_1 (Conv2D)           (None, 24, 24, 128)       204928    \n",
      "                                                                 \n",
      " batch_normalization_1 (Bat  (None, 24, 24, 128)       512       \n",
      " chNormalization)                                                \n",
      "                                                                 \n",
      " activation_1 (Activation)   (None, 24, 24, 128)       0         \n",
      "                                                                 \n",
      " max_pooling2d_1 (MaxPoolin  (None, 12, 12, 128)       0         \n",
      " g2D)                                                            \n",
      "                                                                 \n",
      " dropout_1 (Dropout)         (None, 12, 12, 128)       0         \n",
      "                                                                 \n",
      " conv2d_2 (Conv2D)           (None, 12, 12, 512)       590336    \n",
      "                                                                 \n",
      " batch_normalization_2 (Bat  (None, 12, 12, 512)       2048      \n",
      " chNormalization)                                                \n",
      "                                                                 \n",
      " activation_2 (Activation)   (None, 12, 12, 512)       0         \n",
      "                                                                 \n",
      " max_pooling2d_2 (MaxPoolin  (None, 6, 6, 512)         0         \n",
      " g2D)                                                            \n",
      "                                                                 \n",
      " dropout_2 (Dropout)         (None, 6, 6, 512)         0         \n",
      "                                                                 \n",
      " conv2d_3 (Conv2D)           (None, 6, 6, 512)         2359808   \n",
      "                                                                 \n",
      " batch_normalization_3 (Bat  (None, 6, 6, 512)         2048      \n",
      " chNormalization)                                                \n",
      "                                                                 \n",
      " activation_3 (Activation)   (None, 6, 6, 512)         0         \n",
      "                                                                 \n",
      " max_pooling2d_3 (MaxPoolin  (None, 3, 3, 512)         0         \n",
      " g2D)                                                            \n",
      "                                                                 \n",
      " dropout_3 (Dropout)         (None, 3, 3, 512)         0         \n",
      "                                                                 \n",
      " flatten (Flatten)           (None, 4608)              0         \n",
      "                                                                 \n",
      " dense (Dense)               (None, 256)               1179904   \n",
      "                                                                 \n",
      " batch_normalization_4 (Bat  (None, 256)               1024      \n",
      " chNormalization)                                                \n",
      "                                                                 \n",
      " activation_4 (Activation)   (None, 256)               0         \n",
      "                                                                 \n",
      " dropout_4 (Dropout)         (None, 256)               0         \n",
      "                                                                 \n",
      " dense_1 (Dense)             (None, 512)               131584    \n",
      "                                                                 \n",
      " batch_normalization_5 (Bat  (None, 512)               2048      \n",
      " chNormalization)                                                \n",
      "                                                                 \n",
      " activation_5 (Activation)   (None, 512)               0         \n",
      "                                                                 \n",
      " dropout_5 (Dropout)         (None, 512)               0         \n",
      "                                                                 \n",
      " dense_2 (Dense)             (None, 7)                 3591      \n",
      "                                                                 \n",
      "=================================================================\n",
      "Total params: 4478727 (17.08 MB)\n",
      "Trainable params: 4474759 (17.07 MB)\n",
      "Non-trainable params: 3968 (15.50 KB)\n",
      "_________________________________________________________________\n"
     ]
    }
   ],
   "source": [
    "new_model.summary()"
   ]
  },
  {
   "cell_type": "markdown",
   "metadata": {
    "id": "mUgsrkyBGuq2"
   },
   "source": [
    "# Model 2 - 224x224 pixels"
   ]
  },
  {
   "cell_type": "code",
   "execution_count": 35,
   "metadata": {
    "executionInfo": {
     "elapsed": 401,
     "status": "ok",
     "timestamp": 1708593954608,
     "user": {
      "displayName": "Beata Taudul",
      "userId": "05044565310731015655"
     },
     "user_tz": -60
    },
    "id": "Mh7wPDECGxl_"
   },
   "outputs": [],
   "source": [
    "def split_images_into_X_y_resize(images, img_size=224):\n",
    "    X = []\n",
    "    y = []\n",
    "\n",
    "    for pict, label in images:\n",
    "        new_img = cv2.resize(pict, (img_size, img_size), interpolation=cv2.INTER_LANCZOS4)\n",
    "        X.append(new_img)\n",
    "        y.append(label)\n",
    "\n",
    "    X = np.array(X, dtype=np.float32) / 255.0\n",
    "    y = np.array(y)\n",
    "\n",
    "    return X, y"
   ]
  },
  {
   "cell_type": "code",
   "execution_count": null,
   "metadata": {
    "id": "5EGEfQLqHwjo"
   },
   "outputs": [],
   "source": [
    "X_train_224, y_train_224 = split_images_into_X_y_resize(images, img_size =224)"
   ]
  },
  {
   "cell_type": "code",
   "execution_count": 34,
   "metadata": {
    "colab": {
     "base_uri": "https://localhost:8080/"
    },
    "executionInfo": {
     "elapsed": 407,
     "status": "ok",
     "timestamp": 1708593803744,
     "user": {
      "displayName": "Beata Taudul",
      "userId": "05044565310731015655"
     },
     "user_tz": -60
    },
    "id": "cAPnDQ_PIAFw",
    "outputId": "ea23a35b-0908-41f9-921c-c2049fa47a34"
   },
   "outputs": [
    {
     "data": {
      "text/plain": [
       "((21611, 224, 224), (21611,))"
      ]
     },
     "execution_count": 34,
     "metadata": {},
     "output_type": "execute_result"
    }
   ],
   "source": [
    "X_train_224.shape,   y_train_224.shape"
   ]
  },
  {
   "cell_type": "code",
   "execution_count": 8,
   "metadata": {
    "colab": {
     "base_uri": "https://localhost:8080/"
    },
    "executionInfo": {
     "elapsed": 3,
     "status": "ok",
     "timestamp": 1708624095071,
     "user": {
      "displayName": "Beata Taudul",
      "userId": "05044565310731015655"
     },
     "user_tz": -60
    },
    "id": "xckT_3SQIDds",
    "outputId": "e81fa937-47fc-4fb0-9762-8816912405d6"
   },
   "outputs": [
    {
     "name": "stdout",
     "output_type": "stream",
     "text": [
      "2.15.0\n"
     ]
    }
   ],
   "source": [
    "import tensorflow as tf\n",
    "print(tf.__version__)"
   ]
  },
  {
   "cell_type": "code",
   "execution_count": 9,
   "metadata": {
    "colab": {
     "base_uri": "https://localhost:8080/"
    },
    "executionInfo": {
     "elapsed": 354,
     "status": "ok",
     "timestamp": 1708624154339,
     "user": {
      "displayName": "Beata Taudul",
      "userId": "05044565310731015655"
     },
     "user_tz": -60
    },
    "id": "SlJDgcEi7p73",
    "outputId": "7e5ea3d8-e5bf-4796-e8b3-d709c5177912"
   },
   "outputs": [
    {
     "name": "stdout",
     "output_type": "stream",
     "text": [
      "2.15.0\n"
     ]
    }
   ],
   "source": [
    "import keras\n",
    "print(keras.__version__)"
   ]
  },
  {
   "cell_type": "code",
   "execution_count": null,
   "metadata": {
    "id": "Mf_nbYhZ74pF"
   },
   "outputs": [],
   "source": []
  }
 ],
 "metadata": {
  "colab": {
   "authorship_tag": "ABX9TyP43JekZJ3TSvWQlbc4J7PO",
   "provenance": [],
   "toc_visible": true
  },
  "kernelspec": {
   "display_name": "Python 3 (ipykernel)",
   "language": "python",
   "name": "python3"
  },
  "language_info": {
   "codemirror_mode": {
    "name": "ipython",
    "version": 3
   },
   "file_extension": ".py",
   "mimetype": "text/x-python",
   "name": "python",
   "nbconvert_exporter": "python",
   "pygments_lexer": "ipython3",
   "version": "3.11.5"
  }
 },
 "nbformat": 4,
 "nbformat_minor": 4
}
